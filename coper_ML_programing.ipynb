{
 "cells": [
  {
   "cell_type": "code",
   "execution_count": 1,
   "id": "e481b23c",
   "metadata": {},
   "outputs": [],
   "source": [
    "import pandas as pd\n",
    "import numpy as np\n",
    "import seaborn as sns\n",
    "from matplotlib import pyplot as plt\n"
   ]
  },
  {
   "cell_type": "code",
   "execution_count": 2,
   "id": "79ee8c7a",
   "metadata": {},
   "outputs": [
    {
     "data": {
      "text/html": [
       "<div>\n",
       "<style scoped>\n",
       "    .dataframe tbody tr th:only-of-type {\n",
       "        vertical-align: middle;\n",
       "    }\n",
       "\n",
       "    .dataframe tbody tr th {\n",
       "        vertical-align: top;\n",
       "    }\n",
       "\n",
       "    .dataframe thead th {\n",
       "        text-align: right;\n",
       "    }\n",
       "</style>\n",
       "<table border=\"1\" class=\"dataframe\">\n",
       "  <thead>\n",
       "    <tr style=\"text-align: right;\">\n",
       "      <th></th>\n",
       "      <th>item_date</th>\n",
       "      <th>quantity tons</th>\n",
       "      <th>customer</th>\n",
       "      <th>country</th>\n",
       "      <th>status</th>\n",
       "      <th>item type</th>\n",
       "      <th>application</th>\n",
       "      <th>thickness</th>\n",
       "      <th>width</th>\n",
       "      <th>material_ref</th>\n",
       "      <th>product_ref</th>\n",
       "      <th>delivery date</th>\n",
       "      <th>selling_price</th>\n",
       "    </tr>\n",
       "    <tr>\n",
       "      <th>id</th>\n",
       "      <th></th>\n",
       "      <th></th>\n",
       "      <th></th>\n",
       "      <th></th>\n",
       "      <th></th>\n",
       "      <th></th>\n",
       "      <th></th>\n",
       "      <th></th>\n",
       "      <th></th>\n",
       "      <th></th>\n",
       "      <th></th>\n",
       "      <th></th>\n",
       "      <th></th>\n",
       "    </tr>\n",
       "  </thead>\n",
       "  <tbody>\n",
       "    <tr>\n",
       "      <th>EC06F063-9DF0-440C-8764-0B0C05A4F6AE</th>\n",
       "      <td>2021-04-01</td>\n",
       "      <td>54.151139</td>\n",
       "      <td>30156308.0</td>\n",
       "      <td>28.0</td>\n",
       "      <td>Won</td>\n",
       "      <td>W</td>\n",
       "      <td>10.0</td>\n",
       "      <td>2.00</td>\n",
       "      <td>1500.0</td>\n",
       "      <td>DEQ1 S460MC</td>\n",
       "      <td>1670798778</td>\n",
       "      <td>2021-07-01</td>\n",
       "      <td>854.00</td>\n",
       "    </tr>\n",
       "    <tr>\n",
       "      <th>4E5F4B3D-DDDF-499D-AFDE-A3227EC49425</th>\n",
       "      <td>2021-04-01</td>\n",
       "      <td>768.024839</td>\n",
       "      <td>30202938.0</td>\n",
       "      <td>25.0</td>\n",
       "      <td>Won</td>\n",
       "      <td>W</td>\n",
       "      <td>41.0</td>\n",
       "      <td>0.80</td>\n",
       "      <td>1210.0</td>\n",
       "      <td>104991</td>\n",
       "      <td>1668701718</td>\n",
       "      <td>2021-04-01</td>\n",
       "      <td>1047.00</td>\n",
       "    </tr>\n",
       "    <tr>\n",
       "      <th>E140FF1B-2407-4C02-A0DD-780A093B1158</th>\n",
       "      <td>2021-04-01</td>\n",
       "      <td>386.127949</td>\n",
       "      <td>30153963.0</td>\n",
       "      <td>30.0</td>\n",
       "      <td>Won</td>\n",
       "      <td>WI</td>\n",
       "      <td>28.0</td>\n",
       "      <td>0.38</td>\n",
       "      <td>952.0</td>\n",
       "      <td>S0380700</td>\n",
       "      <td>628377</td>\n",
       "      <td>2021-01-01</td>\n",
       "      <td>644.33</td>\n",
       "    </tr>\n",
       "    <tr>\n",
       "      <th>F8D507A0-9C62-4EFE-831E-33E1DA53BB50</th>\n",
       "      <td>2021-04-01</td>\n",
       "      <td>202.411065</td>\n",
       "      <td>30349574.0</td>\n",
       "      <td>32.0</td>\n",
       "      <td>Won</td>\n",
       "      <td>S</td>\n",
       "      <td>59.0</td>\n",
       "      <td>2.30</td>\n",
       "      <td>1317.0</td>\n",
       "      <td>DX51D+ZM310MAO 2.3X1317</td>\n",
       "      <td>1668701718</td>\n",
       "      <td>2021-01-01</td>\n",
       "      <td>768.00</td>\n",
       "    </tr>\n",
       "    <tr>\n",
       "      <th>4E1C4E78-152B-430A-8094-ADD889C9D0AD</th>\n",
       "      <td>2021-04-01</td>\n",
       "      <td>785.526262</td>\n",
       "      <td>30211560.0</td>\n",
       "      <td>28.0</td>\n",
       "      <td>Won</td>\n",
       "      <td>W</td>\n",
       "      <td>10.0</td>\n",
       "      <td>4.00</td>\n",
       "      <td>2000.0</td>\n",
       "      <td>2_S275JR+AR-CL1</td>\n",
       "      <td>640665</td>\n",
       "      <td>2021-03-01</td>\n",
       "      <td>577.00</td>\n",
       "    </tr>\n",
       "  </tbody>\n",
       "</table>\n",
       "</div>"
      ],
      "text/plain": [
       "                                       item_date  quantity tons    customer  \\\n",
       "id                                                                            \n",
       "EC06F063-9DF0-440C-8764-0B0C05A4F6AE  2021-04-01      54.151139  30156308.0   \n",
       "4E5F4B3D-DDDF-499D-AFDE-A3227EC49425  2021-04-01     768.024839  30202938.0   \n",
       "E140FF1B-2407-4C02-A0DD-780A093B1158  2021-04-01     386.127949  30153963.0   \n",
       "F8D507A0-9C62-4EFE-831E-33E1DA53BB50  2021-04-01     202.411065  30349574.0   \n",
       "4E1C4E78-152B-430A-8094-ADD889C9D0AD  2021-04-01     785.526262  30211560.0   \n",
       "\n",
       "                                      country status item type  application  \\\n",
       "id                                                                            \n",
       "EC06F063-9DF0-440C-8764-0B0C05A4F6AE     28.0    Won         W         10.0   \n",
       "4E5F4B3D-DDDF-499D-AFDE-A3227EC49425     25.0    Won         W         41.0   \n",
       "E140FF1B-2407-4C02-A0DD-780A093B1158     30.0    Won        WI         28.0   \n",
       "F8D507A0-9C62-4EFE-831E-33E1DA53BB50     32.0    Won         S         59.0   \n",
       "4E1C4E78-152B-430A-8094-ADD889C9D0AD     28.0    Won         W         10.0   \n",
       "\n",
       "                                      thickness   width  \\\n",
       "id                                                        \n",
       "EC06F063-9DF0-440C-8764-0B0C05A4F6AE       2.00  1500.0   \n",
       "4E5F4B3D-DDDF-499D-AFDE-A3227EC49425       0.80  1210.0   \n",
       "E140FF1B-2407-4C02-A0DD-780A093B1158       0.38   952.0   \n",
       "F8D507A0-9C62-4EFE-831E-33E1DA53BB50       2.30  1317.0   \n",
       "4E1C4E78-152B-430A-8094-ADD889C9D0AD       4.00  2000.0   \n",
       "\n",
       "                                                 material_ref  product_ref  \\\n",
       "id                                                                           \n",
       "EC06F063-9DF0-440C-8764-0B0C05A4F6AE              DEQ1 S460MC   1670798778   \n",
       "4E5F4B3D-DDDF-499D-AFDE-A3227EC49425                   104991   1668701718   \n",
       "E140FF1B-2407-4C02-A0DD-780A093B1158                 S0380700       628377   \n",
       "F8D507A0-9C62-4EFE-831E-33E1DA53BB50  DX51D+ZM310MAO 2.3X1317   1668701718   \n",
       "4E1C4E78-152B-430A-8094-ADD889C9D0AD          2_S275JR+AR-CL1       640665   \n",
       "\n",
       "                                     delivery date  selling_price  \n",
       "id                                                                 \n",
       "EC06F063-9DF0-440C-8764-0B0C05A4F6AE    2021-07-01         854.00  \n",
       "4E5F4B3D-DDDF-499D-AFDE-A3227EC49425    2021-04-01        1047.00  \n",
       "E140FF1B-2407-4C02-A0DD-780A093B1158    2021-01-01         644.33  \n",
       "F8D507A0-9C62-4EFE-831E-33E1DA53BB50    2021-01-01         768.00  \n",
       "4E1C4E78-152B-430A-8094-ADD889C9D0AD    2021-03-01         577.00  "
      ]
     },
     "execution_count": 2,
     "metadata": {},
     "output_type": "execute_result"
    }
   ],
   "source": [
    "df1=pd.read_csv(r\"C:\\Users\\ADMIN\\Videos\\capstion_project\\coper\\coper_analysis1_data.csv\",index_col=\"id\")\n",
    "df1.head()"
   ]
  },
  {
   "cell_type": "code",
   "execution_count": null,
   "id": "7a5e21a2",
   "metadata": {},
   "outputs": [],
   "source": []
  },
  {
   "cell_type": "code",
   "execution_count": 3,
   "id": "c2317b34",
   "metadata": {},
   "outputs": [],
   "source": [
    "# df1['status']=="
   ]
  },
  {
   "cell_type": "code",
   "execution_count": 4,
   "id": "51fa28e6",
   "metadata": {},
   "outputs": [],
   "source": [
    "d=df1[(df1['quantity tons']<1) | (df1['quantity tons']>500)]\n",
    "df1.drop(d.index,inplace=True)"
   ]
  },
  {
   "cell_type": "code",
   "execution_count": 5,
   "id": "775905ab",
   "metadata": {},
   "outputs": [],
   "source": [
    "# df1.set_index(df1['id'],inplace=True)"
   ]
  },
  {
   "cell_type": "code",
   "execution_count": 6,
   "id": "42130557",
   "metadata": {},
   "outputs": [],
   "source": [
    "df1['quantity tons']=df1['quantity tons'].astype(float)\n",
    "# df1['customer']"
   ]
  },
  {
   "cell_type": "code",
   "execution_count": 7,
   "id": "5e4b3ef4",
   "metadata": {},
   "outputs": [],
   "source": [
    "df1['customer']= df1['customer'].astype(float)\n",
    "df1['country']= df1['country'].astype(float)\n",
    "df1['application']= df1['application'].astype(float)\n",
    "df1['thickness']= df1['thickness'].astype(float)\n",
    "df1['width']= df1['width'].astype(float)\n",
    "df1['product_ref']= df1['product_ref'].astype(float)\n",
    "df1['selling_price']= df1['selling_price'].astype(float)\n",
    "df1['delivery date']=pd.to_datetime(df1['delivery date'],format=\"%Y-%m-%d\")\n",
    "df1['item_date']=pd.to_datetime(df1['item_date'],format=\"%Y-%m-%d\")"
   ]
  },
  {
   "cell_type": "code",
   "execution_count": 8,
   "id": "a14d77c2",
   "metadata": {},
   "outputs": [
    {
     "name": "stdout",
     "output_type": "stream",
     "text": [
      "<class 'pandas.core.frame.DataFrame'>\n",
      "Index: 173383 entries, EC06F063-9DF0-440C-8764-0B0C05A4F6AE to AD0CA853-AE3C-4B2F-9FBB-8B0B965F84BC\n",
      "Data columns (total 13 columns):\n",
      " #   Column         Non-Null Count   Dtype         \n",
      "---  ------         --------------   -----         \n",
      " 0   item_date      173383 non-null  datetime64[ns]\n",
      " 1   quantity tons  173383 non-null  float64       \n",
      " 2   customer       173383 non-null  float64       \n",
      " 3   country        173383 non-null  float64       \n",
      " 4   status         173383 non-null  object        \n",
      " 5   item type      173383 non-null  object        \n",
      " 6   application    173383 non-null  float64       \n",
      " 7   thickness      173383 non-null  float64       \n",
      " 8   width          173383 non-null  float64       \n",
      " 9   material_ref   173383 non-null  object        \n",
      " 10  product_ref    173383 non-null  float64       \n",
      " 11  delivery date  173383 non-null  datetime64[ns]\n",
      " 12  selling_price  173383 non-null  float64       \n",
      "dtypes: datetime64[ns](2), float64(8), object(3)\n",
      "memory usage: 18.5+ MB\n"
     ]
    }
   ],
   "source": [
    "df1.info()"
   ]
  },
  {
   "cell_type": "code",
   "execution_count": 9,
   "id": "ed7dc238",
   "metadata": {},
   "outputs": [],
   "source": [
    "# !pip install -U scikit-learn\n",
    "# "
   ]
  },
  {
   "cell_type": "code",
   "execution_count": 10,
   "id": "cc62d198",
   "metadata": {},
   "outputs": [],
   "source": [
    "# from sklearn.preprocessing import OrdinalEncoder\n",
    "# enc=OrdinalEncoder()\n",
    "# # col_name = str(input())\n",
    "# for col_name in df1.columns:\n",
    "#     if df1[col_name].dtype ==\"object\":\n",
    "#         print(col_name)\n",
    "# data = df1[col_name].unique()\n",
    "# data.sort()\n",
    "# df1[col_name] = enc.fit_transform(df1[[col_name]])\n",
    "\n",
    "# globals()[col_name] = {}\n",
    "# for i in df1[col_name].unique():\n",
    "#       globals()[col_name][data[int(i)]] = i\n",
    "# globals()[col_name]"
   ]
  },
  {
   "cell_type": "code",
   "execution_count": 11,
   "id": "a4cb18bf",
   "metadata": {},
   "outputs": [
    {
     "data": {
      "text/html": [
       "<div>\n",
       "<style scoped>\n",
       "    .dataframe tbody tr th:only-of-type {\n",
       "        vertical-align: middle;\n",
       "    }\n",
       "\n",
       "    .dataframe tbody tr th {\n",
       "        vertical-align: top;\n",
       "    }\n",
       "\n",
       "    .dataframe thead th {\n",
       "        text-align: right;\n",
       "    }\n",
       "</style>\n",
       "<table border=\"1\" class=\"dataframe\">\n",
       "  <thead>\n",
       "    <tr style=\"text-align: right;\">\n",
       "      <th></th>\n",
       "      <th>item_date</th>\n",
       "      <th>quantity tons</th>\n",
       "      <th>customer</th>\n",
       "      <th>country</th>\n",
       "      <th>status</th>\n",
       "      <th>item type</th>\n",
       "      <th>application</th>\n",
       "      <th>thickness</th>\n",
       "      <th>width</th>\n",
       "      <th>material_ref</th>\n",
       "      <th>product_ref</th>\n",
       "      <th>delivery date</th>\n",
       "      <th>selling_price</th>\n",
       "    </tr>\n",
       "    <tr>\n",
       "      <th>id</th>\n",
       "      <th></th>\n",
       "      <th></th>\n",
       "      <th></th>\n",
       "      <th></th>\n",
       "      <th></th>\n",
       "      <th></th>\n",
       "      <th></th>\n",
       "      <th></th>\n",
       "      <th></th>\n",
       "      <th></th>\n",
       "      <th></th>\n",
       "      <th></th>\n",
       "      <th></th>\n",
       "    </tr>\n",
       "  </thead>\n",
       "  <tbody>\n",
       "    <tr>\n",
       "      <th>EC06F063-9DF0-440C-8764-0B0C05A4F6AE</th>\n",
       "      <td>2021-04-01</td>\n",
       "      <td>54.151139</td>\n",
       "      <td>30156308.0</td>\n",
       "      <td>28.0</td>\n",
       "      <td>Won</td>\n",
       "      <td>W</td>\n",
       "      <td>10.0</td>\n",
       "      <td>2.00</td>\n",
       "      <td>1500.0</td>\n",
       "      <td>DEQ1 S460MC</td>\n",
       "      <td>1.670799e+09</td>\n",
       "      <td>2021-07-01</td>\n",
       "      <td>854.00</td>\n",
       "    </tr>\n",
       "    <tr>\n",
       "      <th>E140FF1B-2407-4C02-A0DD-780A093B1158</th>\n",
       "      <td>2021-04-01</td>\n",
       "      <td>386.127949</td>\n",
       "      <td>30153963.0</td>\n",
       "      <td>30.0</td>\n",
       "      <td>Won</td>\n",
       "      <td>WI</td>\n",
       "      <td>28.0</td>\n",
       "      <td>0.38</td>\n",
       "      <td>952.0</td>\n",
       "      <td>S0380700</td>\n",
       "      <td>6.283770e+05</td>\n",
       "      <td>2021-01-01</td>\n",
       "      <td>644.33</td>\n",
       "    </tr>\n",
       "    <tr>\n",
       "      <th>F8D507A0-9C62-4EFE-831E-33E1DA53BB50</th>\n",
       "      <td>2021-04-01</td>\n",
       "      <td>202.411065</td>\n",
       "      <td>30349574.0</td>\n",
       "      <td>32.0</td>\n",
       "      <td>Won</td>\n",
       "      <td>S</td>\n",
       "      <td>59.0</td>\n",
       "      <td>2.30</td>\n",
       "      <td>1317.0</td>\n",
       "      <td>DX51D+ZM310MAO 2.3X1317</td>\n",
       "      <td>1.668702e+09</td>\n",
       "      <td>2021-01-01</td>\n",
       "      <td>768.00</td>\n",
       "    </tr>\n",
       "    <tr>\n",
       "      <th>FE372230-29B1-4A29-BB73-CB9D3078C286</th>\n",
       "      <td>2021-04-01</td>\n",
       "      <td>225.790676</td>\n",
       "      <td>30202938.0</td>\n",
       "      <td>25.0</td>\n",
       "      <td>Won</td>\n",
       "      <td>W</td>\n",
       "      <td>41.0</td>\n",
       "      <td>1.50</td>\n",
       "      <td>1265.0</td>\n",
       "      <td>102325</td>\n",
       "      <td>1.668702e+09</td>\n",
       "      <td>2021-04-01</td>\n",
       "      <td>983.00</td>\n",
       "    </tr>\n",
       "    <tr>\n",
       "      <th>E1B47219-42C8-411D-AE46-AD5256DC4757</th>\n",
       "      <td>2021-04-01</td>\n",
       "      <td>3.522613</td>\n",
       "      <td>30209509.0</td>\n",
       "      <td>30.0</td>\n",
       "      <td>Draft</td>\n",
       "      <td>W</td>\n",
       "      <td>41.0</td>\n",
       "      <td>0.38</td>\n",
       "      <td>1125.0</td>\n",
       "      <td>NBW_L+_A_1125_0.4</td>\n",
       "      <td>6.119930e+05</td>\n",
       "      <td>2021-07-01</td>\n",
       "      <td>18.00</td>\n",
       "    </tr>\n",
       "    <tr>\n",
       "      <th>...</th>\n",
       "      <td>...</td>\n",
       "      <td>...</td>\n",
       "      <td>...</td>\n",
       "      <td>...</td>\n",
       "      <td>...</td>\n",
       "      <td>...</td>\n",
       "      <td>...</td>\n",
       "      <td>...</td>\n",
       "      <td>...</td>\n",
       "      <td>...</td>\n",
       "      <td>...</td>\n",
       "      <td>...</td>\n",
       "      <td>...</td>\n",
       "    </tr>\n",
       "    <tr>\n",
       "      <th>0B812591-B501-4F34-859A-B06381FAEB44</th>\n",
       "      <td>2020-07-02</td>\n",
       "      <td>106.783299</td>\n",
       "      <td>30200854.0</td>\n",
       "      <td>25.0</td>\n",
       "      <td>Won</td>\n",
       "      <td>W</td>\n",
       "      <td>41.0</td>\n",
       "      <td>0.96</td>\n",
       "      <td>1240.0</td>\n",
       "      <td>1000222</td>\n",
       "      <td>1.641416e+08</td>\n",
       "      <td>2020-07-01</td>\n",
       "      <td>602.00</td>\n",
       "    </tr>\n",
       "    <tr>\n",
       "      <th>DE633116-D1DF-4846-982E-55EFC3658A76</th>\n",
       "      <td>2020-07-02</td>\n",
       "      <td>102.482422</td>\n",
       "      <td>30200854.0</td>\n",
       "      <td>25.0</td>\n",
       "      <td>Won</td>\n",
       "      <td>W</td>\n",
       "      <td>41.0</td>\n",
       "      <td>0.96</td>\n",
       "      <td>1220.0</td>\n",
       "      <td>1000777</td>\n",
       "      <td>1.641416e+08</td>\n",
       "      <td>2020-07-01</td>\n",
       "      <td>591.00</td>\n",
       "    </tr>\n",
       "    <tr>\n",
       "      <th>A48374B1-E6DB-45F2-889A-1F9C27C099EB</th>\n",
       "      <td>2020-07-02</td>\n",
       "      <td>208.086469</td>\n",
       "      <td>30200854.0</td>\n",
       "      <td>25.0</td>\n",
       "      <td>Won</td>\n",
       "      <td>W</td>\n",
       "      <td>41.0</td>\n",
       "      <td>0.95</td>\n",
       "      <td>1500.0</td>\n",
       "      <td>1000227</td>\n",
       "      <td>1.641416e+08</td>\n",
       "      <td>2020-07-01</td>\n",
       "      <td>589.00</td>\n",
       "    </tr>\n",
       "    <tr>\n",
       "      <th>91643238-5C7B-4237-9A5F-63AE3D35F320</th>\n",
       "      <td>2020-07-02</td>\n",
       "      <td>4.235594</td>\n",
       "      <td>30200854.0</td>\n",
       "      <td>25.0</td>\n",
       "      <td>Won</td>\n",
       "      <td>W</td>\n",
       "      <td>41.0</td>\n",
       "      <td>0.71</td>\n",
       "      <td>1250.0</td>\n",
       "      <td>1004216</td>\n",
       "      <td>1.641416e+08</td>\n",
       "      <td>2020-07-01</td>\n",
       "      <td>619.00</td>\n",
       "    </tr>\n",
       "    <tr>\n",
       "      <th>AD0CA853-AE3C-4B2F-9FBB-8B0B965F84BC</th>\n",
       "      <td>2020-07-02</td>\n",
       "      <td>406.686538</td>\n",
       "      <td>30200854.0</td>\n",
       "      <td>25.0</td>\n",
       "      <td>Won</td>\n",
       "      <td>W</td>\n",
       "      <td>41.0</td>\n",
       "      <td>0.71</td>\n",
       "      <td>1240.0</td>\n",
       "      <td>1005439</td>\n",
       "      <td>1.641416e+08</td>\n",
       "      <td>2020-07-01</td>\n",
       "      <td>607.00</td>\n",
       "    </tr>\n",
       "  </tbody>\n",
       "</table>\n",
       "<p>173383 rows × 13 columns</p>\n",
       "</div>"
      ],
      "text/plain": [
       "                                      item_date  quantity tons    customer  \\\n",
       "id                                                                           \n",
       "EC06F063-9DF0-440C-8764-0B0C05A4F6AE 2021-04-01      54.151139  30156308.0   \n",
       "E140FF1B-2407-4C02-A0DD-780A093B1158 2021-04-01     386.127949  30153963.0   \n",
       "F8D507A0-9C62-4EFE-831E-33E1DA53BB50 2021-04-01     202.411065  30349574.0   \n",
       "FE372230-29B1-4A29-BB73-CB9D3078C286 2021-04-01     225.790676  30202938.0   \n",
       "E1B47219-42C8-411D-AE46-AD5256DC4757 2021-04-01       3.522613  30209509.0   \n",
       "...                                         ...            ...         ...   \n",
       "0B812591-B501-4F34-859A-B06381FAEB44 2020-07-02     106.783299  30200854.0   \n",
       "DE633116-D1DF-4846-982E-55EFC3658A76 2020-07-02     102.482422  30200854.0   \n",
       "A48374B1-E6DB-45F2-889A-1F9C27C099EB 2020-07-02     208.086469  30200854.0   \n",
       "91643238-5C7B-4237-9A5F-63AE3D35F320 2020-07-02       4.235594  30200854.0   \n",
       "AD0CA853-AE3C-4B2F-9FBB-8B0B965F84BC 2020-07-02     406.686538  30200854.0   \n",
       "\n",
       "                                      country status item type  application  \\\n",
       "id                                                                            \n",
       "EC06F063-9DF0-440C-8764-0B0C05A4F6AE     28.0    Won         W         10.0   \n",
       "E140FF1B-2407-4C02-A0DD-780A093B1158     30.0    Won        WI         28.0   \n",
       "F8D507A0-9C62-4EFE-831E-33E1DA53BB50     32.0    Won         S         59.0   \n",
       "FE372230-29B1-4A29-BB73-CB9D3078C286     25.0    Won         W         41.0   \n",
       "E1B47219-42C8-411D-AE46-AD5256DC4757     30.0  Draft         W         41.0   \n",
       "...                                       ...    ...       ...          ...   \n",
       "0B812591-B501-4F34-859A-B06381FAEB44     25.0    Won         W         41.0   \n",
       "DE633116-D1DF-4846-982E-55EFC3658A76     25.0    Won         W         41.0   \n",
       "A48374B1-E6DB-45F2-889A-1F9C27C099EB     25.0    Won         W         41.0   \n",
       "91643238-5C7B-4237-9A5F-63AE3D35F320     25.0    Won         W         41.0   \n",
       "AD0CA853-AE3C-4B2F-9FBB-8B0B965F84BC     25.0    Won         W         41.0   \n",
       "\n",
       "                                      thickness   width  \\\n",
       "id                                                        \n",
       "EC06F063-9DF0-440C-8764-0B0C05A4F6AE       2.00  1500.0   \n",
       "E140FF1B-2407-4C02-A0DD-780A093B1158       0.38   952.0   \n",
       "F8D507A0-9C62-4EFE-831E-33E1DA53BB50       2.30  1317.0   \n",
       "FE372230-29B1-4A29-BB73-CB9D3078C286       1.50  1265.0   \n",
       "E1B47219-42C8-411D-AE46-AD5256DC4757       0.38  1125.0   \n",
       "...                                         ...     ...   \n",
       "0B812591-B501-4F34-859A-B06381FAEB44       0.96  1240.0   \n",
       "DE633116-D1DF-4846-982E-55EFC3658A76       0.96  1220.0   \n",
       "A48374B1-E6DB-45F2-889A-1F9C27C099EB       0.95  1500.0   \n",
       "91643238-5C7B-4237-9A5F-63AE3D35F320       0.71  1250.0   \n",
       "AD0CA853-AE3C-4B2F-9FBB-8B0B965F84BC       0.71  1240.0   \n",
       "\n",
       "                                                 material_ref   product_ref  \\\n",
       "id                                                                            \n",
       "EC06F063-9DF0-440C-8764-0B0C05A4F6AE              DEQ1 S460MC  1.670799e+09   \n",
       "E140FF1B-2407-4C02-A0DD-780A093B1158                 S0380700  6.283770e+05   \n",
       "F8D507A0-9C62-4EFE-831E-33E1DA53BB50  DX51D+ZM310MAO 2.3X1317  1.668702e+09   \n",
       "FE372230-29B1-4A29-BB73-CB9D3078C286                   102325  1.668702e+09   \n",
       "E1B47219-42C8-411D-AE46-AD5256DC4757        NBW_L+_A_1125_0.4  6.119930e+05   \n",
       "...                                                       ...           ...   \n",
       "0B812591-B501-4F34-859A-B06381FAEB44                  1000222  1.641416e+08   \n",
       "DE633116-D1DF-4846-982E-55EFC3658A76                  1000777  1.641416e+08   \n",
       "A48374B1-E6DB-45F2-889A-1F9C27C099EB                  1000227  1.641416e+08   \n",
       "91643238-5C7B-4237-9A5F-63AE3D35F320                  1004216  1.641416e+08   \n",
       "AD0CA853-AE3C-4B2F-9FBB-8B0B965F84BC                  1005439  1.641416e+08   \n",
       "\n",
       "                                     delivery date  selling_price  \n",
       "id                                                                 \n",
       "EC06F063-9DF0-440C-8764-0B0C05A4F6AE    2021-07-01         854.00  \n",
       "E140FF1B-2407-4C02-A0DD-780A093B1158    2021-01-01         644.33  \n",
       "F8D507A0-9C62-4EFE-831E-33E1DA53BB50    2021-01-01         768.00  \n",
       "FE372230-29B1-4A29-BB73-CB9D3078C286    2021-04-01         983.00  \n",
       "E1B47219-42C8-411D-AE46-AD5256DC4757    2021-07-01          18.00  \n",
       "...                                            ...            ...  \n",
       "0B812591-B501-4F34-859A-B06381FAEB44    2020-07-01         602.00  \n",
       "DE633116-D1DF-4846-982E-55EFC3658A76    2020-07-01         591.00  \n",
       "A48374B1-E6DB-45F2-889A-1F9C27C099EB    2020-07-01         589.00  \n",
       "91643238-5C7B-4237-9A5F-63AE3D35F320    2020-07-01         619.00  \n",
       "AD0CA853-AE3C-4B2F-9FBB-8B0B965F84BC    2020-07-01         607.00  \n",
       "\n",
       "[173383 rows x 13 columns]"
      ]
     },
     "execution_count": 11,
     "metadata": {},
     "output_type": "execute_result"
    }
   ],
   "source": [
    "df1"
   ]
  },
  {
   "cell_type": "code",
   "execution_count": 12,
   "id": "dfa05235",
   "metadata": {},
   "outputs": [],
   "source": [
    "# sns.barplot(df1['selling_price'])"
   ]
  },
  {
   "cell_type": "code",
   "execution_count": 13,
   "id": "31ec02ba",
   "metadata": {},
   "outputs": [
    {
     "data": {
      "text/plain": [
       "<Axes: >"
      ]
     },
     "execution_count": 13,
     "metadata": {},
     "output_type": "execute_result"
    },
    {
     "data": {
      "image/png": "[encoded data removed]",
      "text/plain": [
       "<Figure size 640x480 with 1 Axes>"
      ]
     },
     "metadata": {},
     "output_type": "display_data"
    }
   ],
   "source": [
    "sns.boxplot(df1['selling_price'])"
   ]
  },
  {
   "cell_type": "code",
   "execution_count": 14,
   "id": "aefea621",
   "metadata": {},
   "outputs": [
    {
     "name": "stderr",
     "output_type": "stream",
     "text": [
      "C:\\Users\\ADMIN\\AppData\\Local\\Temp\\ipykernel_3328\\2518427769.py:1: UserWarning: \n",
      "\n",
      "`distplot` is a deprecated function and will be removed in seaborn v0.14.0.\n",
      "\n",
      "Please adapt your code to use either `displot` (a figure-level function with\n",
      "similar flexibility) or `histplot` (an axes-level function for histograms).\n",
      "\n",
      "For a guide to updating your code to use the new functions, please see\n",
      "https://gist.github.com/mwaskom/de44147ed2974457ad6372750bbe5751\n",
      "\n",
      "  sns.distplot(df1['selling_price'])\n"
     ]
    },
    {
     "data": {
      "text/plain": [
       "<Axes: xlabel='selling_price', ylabel='Density'>"
      ]
     },
     "execution_count": 14,
     "metadata": {},
     "output_type": "execute_result"
    },
    {
     "data": {
      "image/png": "[encoded data removed]",
      "text/plain": [
       "<Figure size 640x480 with 1 Axes>"
      ]
     },
     "metadata": {},
     "output_type": "display_data"
    }
   ],
   "source": [
    "sns.distplot(df1['selling_price'])"
   ]
  },
  {
   "cell_type": "markdown",
   "id": "33a376d1",
   "metadata": {},
   "source": [
    "# iqr method\n"
   ]
  },
  {
   "cell_type": "code",
   "execution_count": 15,
   "id": "11a7150f",
   "metadata": {},
   "outputs": [],
   "source": [
    "q1=df1['selling_price'].quantile(0.25)\n",
    "q3=df1['selling_price'].quantile(0.75)\n",
    "iqr=q3-q1"
   ]
  },
  {
   "cell_type": "code",
   "execution_count": 16,
   "id": "9dbe91a9",
   "metadata": {},
   "outputs": [
    {
     "data": {
      "text/plain": [
       "(670.0, 955.0, 285.0)"
      ]
     },
     "execution_count": 16,
     "metadata": {},
     "output_type": "execute_result"
    }
   ],
   "source": [
    "q1,q3,iqr"
   ]
  },
  {
   "cell_type": "code",
   "execution_count": 17,
   "id": "cc4b4bc9",
   "metadata": {},
   "outputs": [],
   "source": [
    "upper_limit=q3+(1.5*iqr)\n",
    "lower_limit=q1-(1.5*iqr)"
   ]
  },
  {
   "cell_type": "code",
   "execution_count": 18,
   "id": "7378412d",
   "metadata": {},
   "outputs": [
    {
     "data": {
      "text/plain": [
       "(1382.5, 242.5)"
      ]
     },
     "execution_count": 18,
     "metadata": {},
     "output_type": "execute_result"
    }
   ],
   "source": [
    "upper_limit,lower_limit"
   ]
  },
  {
   "cell_type": "code",
   "execution_count": 19,
   "id": "2cc78a95",
   "metadata": {},
   "outputs": [],
   "source": [
    "df2=df1.copy()"
   ]
  },
  {
   "cell_type": "code",
   "execution_count": 20,
   "id": "eba0d268",
   "metadata": {},
   "outputs": [
    {
     "data": {
      "text/html": [
       "<div>\n",
       "<style scoped>\n",
       "    .dataframe tbody tr th:only-of-type {\n",
       "        vertical-align: middle;\n",
       "    }\n",
       "\n",
       "    .dataframe tbody tr th {\n",
       "        vertical-align: top;\n",
       "    }\n",
       "\n",
       "    .dataframe thead th {\n",
       "        text-align: right;\n",
       "    }\n",
       "</style>\n",
       "<table border=\"1\" class=\"dataframe\">\n",
       "  <thead>\n",
       "    <tr style=\"text-align: right;\">\n",
       "      <th></th>\n",
       "      <th>item_date</th>\n",
       "      <th>quantity tons</th>\n",
       "      <th>customer</th>\n",
       "      <th>country</th>\n",
       "      <th>status</th>\n",
       "      <th>item type</th>\n",
       "      <th>application</th>\n",
       "      <th>thickness</th>\n",
       "      <th>width</th>\n",
       "      <th>material_ref</th>\n",
       "      <th>product_ref</th>\n",
       "      <th>delivery date</th>\n",
       "      <th>selling_price</th>\n",
       "    </tr>\n",
       "    <tr>\n",
       "      <th>id</th>\n",
       "      <th></th>\n",
       "      <th></th>\n",
       "      <th></th>\n",
       "      <th></th>\n",
       "      <th></th>\n",
       "      <th></th>\n",
       "      <th></th>\n",
       "      <th></th>\n",
       "      <th></th>\n",
       "      <th></th>\n",
       "      <th></th>\n",
       "      <th></th>\n",
       "      <th></th>\n",
       "    </tr>\n",
       "  </thead>\n",
       "  <tbody>\n",
       "    <tr>\n",
       "      <th>E1B47219-42C8-411D-AE46-AD5256DC4757</th>\n",
       "      <td>2021-04-01</td>\n",
       "      <td>3.522613</td>\n",
       "      <td>30209509.0</td>\n",
       "      <td>30.0</td>\n",
       "      <td>Draft</td>\n",
       "      <td>W</td>\n",
       "      <td>41.0</td>\n",
       "      <td>0.380</td>\n",
       "      <td>1125.0</td>\n",
       "      <td>NBW_L+_A_1125_0.4</td>\n",
       "      <td>6.119930e+05</td>\n",
       "      <td>2021-07-01</td>\n",
       "      <td>18.0</td>\n",
       "    </tr>\n",
       "    <tr>\n",
       "      <th>B85870F5-E1C7-4CAA-A7DA-355DC192B11D</th>\n",
       "      <td>2021-04-01</td>\n",
       "      <td>9.175770</td>\n",
       "      <td>30209509.0</td>\n",
       "      <td>30.0</td>\n",
       "      <td>Draft</td>\n",
       "      <td>W</td>\n",
       "      <td>41.0</td>\n",
       "      <td>0.380</td>\n",
       "      <td>1125.0</td>\n",
       "      <td>NBW_L+_1125_0.4</td>\n",
       "      <td>6.119930e+05</td>\n",
       "      <td>2021-07-01</td>\n",
       "      <td>17.0</td>\n",
       "    </tr>\n",
       "    <tr>\n",
       "      <th>BEC18863-E965-478B-9861-A49A77F26655</th>\n",
       "      <td>2021-04-01</td>\n",
       "      <td>99.059199</td>\n",
       "      <td>30153510.0</td>\n",
       "      <td>30.0</td>\n",
       "      <td>Won</td>\n",
       "      <td>W</td>\n",
       "      <td>41.0</td>\n",
       "      <td>0.595</td>\n",
       "      <td>1207.0</td>\n",
       "      <td>GOO1208X595SP</td>\n",
       "      <td>6.119930e+05</td>\n",
       "      <td>2021-04-01</td>\n",
       "      <td>-1160.0</td>\n",
       "    </tr>\n",
       "    <tr>\n",
       "      <th>77AE96A1-0FD6-4974-934D-2FA53C502087</th>\n",
       "      <td>2021-04-01</td>\n",
       "      <td>59.907355</td>\n",
       "      <td>30202938.0</td>\n",
       "      <td>25.0</td>\n",
       "      <td>Won</td>\n",
       "      <td>W</td>\n",
       "      <td>41.0</td>\n",
       "      <td>2500.000</td>\n",
       "      <td>1260.0</td>\n",
       "      <td>101952</td>\n",
       "      <td>1.670799e+09</td>\n",
       "      <td>2021-04-01</td>\n",
       "      <td>0.0</td>\n",
       "    </tr>\n",
       "    <tr>\n",
       "      <th>DA3F694A-3DA1-4692-83A5-2F9A2E58FF02</th>\n",
       "      <td>2021-04-01</td>\n",
       "      <td>15.955136</td>\n",
       "      <td>30271717.0</td>\n",
       "      <td>28.0</td>\n",
       "      <td>To be approved</td>\n",
       "      <td>W</td>\n",
       "      <td>10.0</td>\n",
       "      <td>1.000</td>\n",
       "      <td>1000.0</td>\n",
       "      <td>0</td>\n",
       "      <td>6.119930e+05</td>\n",
       "      <td>2021-07-01</td>\n",
       "      <td>1386.0</td>\n",
       "    </tr>\n",
       "    <tr>\n",
       "      <th>...</th>\n",
       "      <td>...</td>\n",
       "      <td>...</td>\n",
       "      <td>...</td>\n",
       "      <td>...</td>\n",
       "      <td>...</td>\n",
       "      <td>...</td>\n",
       "      <td>...</td>\n",
       "      <td>...</td>\n",
       "      <td>...</td>\n",
       "      <td>...</td>\n",
       "      <td>...</td>\n",
       "      <td>...</td>\n",
       "      <td>...</td>\n",
       "    </tr>\n",
       "    <tr>\n",
       "      <th>BF027CFA-D92E-4290-8631-D21174785E82</th>\n",
       "      <td>2020-07-05</td>\n",
       "      <td>50.546687</td>\n",
       "      <td>30209521.0</td>\n",
       "      <td>25.0</td>\n",
       "      <td>Not lost for AM</td>\n",
       "      <td>S</td>\n",
       "      <td>41.0</td>\n",
       "      <td>0.400</td>\n",
       "      <td>1250.0</td>\n",
       "      <td>0</td>\n",
       "      <td>6.119930e+05</td>\n",
       "      <td>2020-09-01</td>\n",
       "      <td>1437.0</td>\n",
       "    </tr>\n",
       "    <tr>\n",
       "      <th>DA7F25E1-1FB7-406B-A559-75EDD76F426B</th>\n",
       "      <td>2020-07-02</td>\n",
       "      <td>316.384839</td>\n",
       "      <td>30268656.0</td>\n",
       "      <td>79.0</td>\n",
       "      <td>Draft</td>\n",
       "      <td>S</td>\n",
       "      <td>15.0</td>\n",
       "      <td>1.500</td>\n",
       "      <td>1500.0</td>\n",
       "      <td>0</td>\n",
       "      <td>1.641416e+08</td>\n",
       "      <td>2020-10-01</td>\n",
       "      <td>11.0</td>\n",
       "    </tr>\n",
       "    <tr>\n",
       "      <th>FE28EFC1-0D90-43F3-A6B5-7B3F582859E9</th>\n",
       "      <td>2020-07-02</td>\n",
       "      <td>228.688858</td>\n",
       "      <td>30268656.0</td>\n",
       "      <td>79.0</td>\n",
       "      <td>Draft</td>\n",
       "      <td>S</td>\n",
       "      <td>15.0</td>\n",
       "      <td>2.000</td>\n",
       "      <td>1500.0</td>\n",
       "      <td>0</td>\n",
       "      <td>1.641416e+08</td>\n",
       "      <td>2020-10-01</td>\n",
       "      <td>14.0</td>\n",
       "    </tr>\n",
       "    <tr>\n",
       "      <th>EA8F675A-67EC-41F4-9C1C-2C94758F0855</th>\n",
       "      <td>2020-07-02</td>\n",
       "      <td>113.659397</td>\n",
       "      <td>30268656.0</td>\n",
       "      <td>79.0</td>\n",
       "      <td>Draft</td>\n",
       "      <td>S</td>\n",
       "      <td>15.0</td>\n",
       "      <td>3.000</td>\n",
       "      <td>1500.0</td>\n",
       "      <td>0</td>\n",
       "      <td>1.641416e+08</td>\n",
       "      <td>2020-10-01</td>\n",
       "      <td>19.0</td>\n",
       "    </tr>\n",
       "    <tr>\n",
       "      <th>C612E4C0-ACFC-4106-8D8B-8214C006B0F8</th>\n",
       "      <td>2020-07-02</td>\n",
       "      <td>3.314708</td>\n",
       "      <td>30406628.0</td>\n",
       "      <td>32.0</td>\n",
       "      <td>Won</td>\n",
       "      <td>W</td>\n",
       "      <td>41.0</td>\n",
       "      <td>1.020</td>\n",
       "      <td>1220.0</td>\n",
       "      <td>0</td>\n",
       "      <td>6.119930e+05</td>\n",
       "      <td>2020-07-01</td>\n",
       "      <td>1587.0</td>\n",
       "    </tr>\n",
       "  </tbody>\n",
       "</table>\n",
       "<p>4732 rows × 13 columns</p>\n",
       "</div>"
      ],
      "text/plain": [
       "                                      item_date  quantity tons    customer  \\\n",
       "id                                                                           \n",
       "E1B47219-42C8-411D-AE46-AD5256DC4757 2021-04-01       3.522613  30209509.0   \n",
       "B85870F5-E1C7-4CAA-A7DA-355DC192B11D 2021-04-01       9.175770  30209509.0   \n",
       "BEC18863-E965-478B-9861-A49A77F26655 2021-04-01      99.059199  30153510.0   \n",
       "77AE96A1-0FD6-4974-934D-2FA53C502087 2021-04-01      59.907355  30202938.0   \n",
       "DA3F694A-3DA1-4692-83A5-2F9A2E58FF02 2021-04-01      15.955136  30271717.0   \n",
       "...                                         ...            ...         ...   \n",
       "BF027CFA-D92E-4290-8631-D21174785E82 2020-07-05      50.546687  30209521.0   \n",
       "DA7F25E1-1FB7-406B-A559-75EDD76F426B 2020-07-02     316.384839  30268656.0   \n",
       "FE28EFC1-0D90-43F3-A6B5-7B3F582859E9 2020-07-02     228.688858  30268656.0   \n",
       "EA8F675A-67EC-41F4-9C1C-2C94758F0855 2020-07-02     113.659397  30268656.0   \n",
       "C612E4C0-ACFC-4106-8D8B-8214C006B0F8 2020-07-02       3.314708  30406628.0   \n",
       "\n",
       "                                      country           status item type  \\\n",
       "id                                                                         \n",
       "E1B47219-42C8-411D-AE46-AD5256DC4757     30.0            Draft         W   \n",
       "B85870F5-E1C7-4CAA-A7DA-355DC192B11D     30.0            Draft         W   \n",
       "BEC18863-E965-478B-9861-A49A77F26655     30.0              Won         W   \n",
       "77AE96A1-0FD6-4974-934D-2FA53C502087     25.0              Won         W   \n",
       "DA3F694A-3DA1-4692-83A5-2F9A2E58FF02     28.0   To be approved         W   \n",
       "...                                       ...              ...       ...   \n",
       "BF027CFA-D92E-4290-8631-D21174785E82     25.0  Not lost for AM         S   \n",
       "DA7F25E1-1FB7-406B-A559-75EDD76F426B     79.0            Draft         S   \n",
       "FE28EFC1-0D90-43F3-A6B5-7B3F582859E9     79.0            Draft         S   \n",
       "EA8F675A-67EC-41F4-9C1C-2C94758F0855     79.0            Draft         S   \n",
       "C612E4C0-ACFC-4106-8D8B-8214C006B0F8     32.0              Won         W   \n",
       "\n",
       "                                      application  thickness   width  \\\n",
       "id                                                                     \n",
       "E1B47219-42C8-411D-AE46-AD5256DC4757         41.0      0.380  1125.0   \n",
       "B85870F5-E1C7-4CAA-A7DA-355DC192B11D         41.0      0.380  1125.0   \n",
       "BEC18863-E965-478B-9861-A49A77F26655         41.0      0.595  1207.0   \n",
       "77AE96A1-0FD6-4974-934D-2FA53C502087         41.0   2500.000  1260.0   \n",
       "DA3F694A-3DA1-4692-83A5-2F9A2E58FF02         10.0      1.000  1000.0   \n",
       "...                                           ...        ...     ...   \n",
       "BF027CFA-D92E-4290-8631-D21174785E82         41.0      0.400  1250.0   \n",
       "DA7F25E1-1FB7-406B-A559-75EDD76F426B         15.0      1.500  1500.0   \n",
       "FE28EFC1-0D90-43F3-A6B5-7B3F582859E9         15.0      2.000  1500.0   \n",
       "EA8F675A-67EC-41F4-9C1C-2C94758F0855         15.0      3.000  1500.0   \n",
       "C612E4C0-ACFC-4106-8D8B-8214C006B0F8         41.0      1.020  1220.0   \n",
       "\n",
       "                                           material_ref   product_ref  \\\n",
       "id                                                                      \n",
       "E1B47219-42C8-411D-AE46-AD5256DC4757  NBW_L+_A_1125_0.4  6.119930e+05   \n",
       "B85870F5-E1C7-4CAA-A7DA-355DC192B11D    NBW_L+_1125_0.4  6.119930e+05   \n",
       "BEC18863-E965-478B-9861-A49A77F26655      GOO1208X595SP  6.119930e+05   \n",
       "77AE96A1-0FD6-4974-934D-2FA53C502087             101952  1.670799e+09   \n",
       "DA3F694A-3DA1-4692-83A5-2F9A2E58FF02                  0  6.119930e+05   \n",
       "...                                                 ...           ...   \n",
       "BF027CFA-D92E-4290-8631-D21174785E82                  0  6.119930e+05   \n",
       "DA7F25E1-1FB7-406B-A559-75EDD76F426B                  0  1.641416e+08   \n",
       "FE28EFC1-0D90-43F3-A6B5-7B3F582859E9                  0  1.641416e+08   \n",
       "EA8F675A-67EC-41F4-9C1C-2C94758F0855                  0  1.641416e+08   \n",
       "C612E4C0-ACFC-4106-8D8B-8214C006B0F8                  0  6.119930e+05   \n",
       "\n",
       "                                     delivery date  selling_price  \n",
       "id                                                                 \n",
       "E1B47219-42C8-411D-AE46-AD5256DC4757    2021-07-01           18.0  \n",
       "B85870F5-E1C7-4CAA-A7DA-355DC192B11D    2021-07-01           17.0  \n",
       "BEC18863-E965-478B-9861-A49A77F26655    2021-04-01        -1160.0  \n",
       "77AE96A1-0FD6-4974-934D-2FA53C502087    2021-04-01            0.0  \n",
       "DA3F694A-3DA1-4692-83A5-2F9A2E58FF02    2021-07-01         1386.0  \n",
       "...                                            ...            ...  \n",
       "BF027CFA-D92E-4290-8631-D21174785E82    2020-09-01         1437.0  \n",
       "DA7F25E1-1FB7-406B-A559-75EDD76F426B    2020-10-01           11.0  \n",
       "FE28EFC1-0D90-43F3-A6B5-7B3F582859E9    2020-10-01           14.0  \n",
       "EA8F675A-67EC-41F4-9C1C-2C94758F0855    2020-10-01           19.0  \n",
       "C612E4C0-ACFC-4106-8D8B-8214C006B0F8    2020-07-01         1587.0  \n",
       "\n",
       "[4732 rows x 13 columns]"
      ]
     },
     "execution_count": 20,
     "metadata": {},
     "output_type": "execute_result"
    }
   ],
   "source": [
    "df1[(df1['selling_price']>upper_limit) | (df1['selling_price']<lower_limit)]"
   ]
  },
  {
   "cell_type": "code",
   "execution_count": 21,
   "id": "55289571",
   "metadata": {},
   "outputs": [],
   "source": [
    "d=df2[(df2['selling_price']>upper_limit)]\n",
    "len(d)\n",
    "df2.drop(d.index,inplace=True)"
   ]
  },
  {
   "cell_type": "code",
   "execution_count": 22,
   "id": "a280461c",
   "metadata": {},
   "outputs": [],
   "source": [
    "d=df2[(df2['selling_price']<lower_limit)]\n",
    "len(d)\n",
    "df2.drop(d.index,inplace=True)"
   ]
  },
  {
   "cell_type": "code",
   "execution_count": 23,
   "id": "757e79ed",
   "metadata": {},
   "outputs": [
    {
     "data": {
      "text/plain": [
       "4881"
      ]
     },
     "execution_count": 23,
     "metadata": {},
     "output_type": "execute_result"
    }
   ],
   "source": [
    "1730+3151"
   ]
  },
  {
   "cell_type": "code",
   "execution_count": 24,
   "id": "fe827d7b",
   "metadata": {},
   "outputs": [
    {
     "data": {
      "text/plain": [
       "(168651, 13)"
      ]
     },
     "execution_count": 24,
     "metadata": {},
     "output_type": "execute_result"
    }
   ],
   "source": [
    "df2.shape"
   ]
  },
  {
   "cell_type": "code",
   "execution_count": 25,
   "id": "f5db4dc9",
   "metadata": {},
   "outputs": [
    {
     "data": {
      "text/plain": [
       "(173383, 13)"
      ]
     },
     "execution_count": 25,
     "metadata": {},
     "output_type": "execute_result"
    }
   ],
   "source": [
    "df1.shape"
   ]
  },
  {
   "cell_type": "code",
   "execution_count": 26,
   "id": "f3b280d0",
   "metadata": {},
   "outputs": [
    {
     "data": {
      "text/plain": [
       "4732"
      ]
     },
     "execution_count": 26,
     "metadata": {},
     "output_type": "execute_result"
    }
   ],
   "source": [
    "df1.shape[0]-df2.shape[0]"
   ]
  },
  {
   "cell_type": "code",
   "execution_count": 27,
   "id": "d284e9f6",
   "metadata": {},
   "outputs": [
    {
     "data": {
      "text/html": [
       "<div>\n",
       "<style scoped>\n",
       "    .dataframe tbody tr th:only-of-type {\n",
       "        vertical-align: middle;\n",
       "    }\n",
       "\n",
       "    .dataframe tbody tr th {\n",
       "        vertical-align: top;\n",
       "    }\n",
       "\n",
       "    .dataframe thead th {\n",
       "        text-align: right;\n",
       "    }\n",
       "</style>\n",
       "<table border=\"1\" class=\"dataframe\">\n",
       "  <thead>\n",
       "    <tr style=\"text-align: right;\">\n",
       "      <th></th>\n",
       "      <th>item_date</th>\n",
       "      <th>quantity tons</th>\n",
       "      <th>customer</th>\n",
       "      <th>country</th>\n",
       "      <th>status</th>\n",
       "      <th>item type</th>\n",
       "      <th>application</th>\n",
       "      <th>thickness</th>\n",
       "      <th>width</th>\n",
       "      <th>material_ref</th>\n",
       "      <th>product_ref</th>\n",
       "      <th>delivery date</th>\n",
       "      <th>selling_price</th>\n",
       "    </tr>\n",
       "    <tr>\n",
       "      <th>id</th>\n",
       "      <th></th>\n",
       "      <th></th>\n",
       "      <th></th>\n",
       "      <th></th>\n",
       "      <th></th>\n",
       "      <th></th>\n",
       "      <th></th>\n",
       "      <th></th>\n",
       "      <th></th>\n",
       "      <th></th>\n",
       "      <th></th>\n",
       "      <th></th>\n",
       "      <th></th>\n",
       "    </tr>\n",
       "  </thead>\n",
       "  <tbody>\n",
       "    <tr>\n",
       "      <th>EC06F063-9DF0-440C-8764-0B0C05A4F6AE</th>\n",
       "      <td>2021-04-01</td>\n",
       "      <td>54.151139</td>\n",
       "      <td>30156308.0</td>\n",
       "      <td>28.0</td>\n",
       "      <td>Won</td>\n",
       "      <td>W</td>\n",
       "      <td>10.0</td>\n",
       "      <td>2.00</td>\n",
       "      <td>1500.0</td>\n",
       "      <td>DEQ1 S460MC</td>\n",
       "      <td>1.670799e+09</td>\n",
       "      <td>2021-07-01</td>\n",
       "      <td>854.00</td>\n",
       "    </tr>\n",
       "    <tr>\n",
       "      <th>E140FF1B-2407-4C02-A0DD-780A093B1158</th>\n",
       "      <td>2021-04-01</td>\n",
       "      <td>386.127949</td>\n",
       "      <td>30153963.0</td>\n",
       "      <td>30.0</td>\n",
       "      <td>Won</td>\n",
       "      <td>WI</td>\n",
       "      <td>28.0</td>\n",
       "      <td>0.38</td>\n",
       "      <td>952.0</td>\n",
       "      <td>S0380700</td>\n",
       "      <td>6.283770e+05</td>\n",
       "      <td>2021-01-01</td>\n",
       "      <td>644.33</td>\n",
       "    </tr>\n",
       "    <tr>\n",
       "      <th>F8D507A0-9C62-4EFE-831E-33E1DA53BB50</th>\n",
       "      <td>2021-04-01</td>\n",
       "      <td>202.411065</td>\n",
       "      <td>30349574.0</td>\n",
       "      <td>32.0</td>\n",
       "      <td>Won</td>\n",
       "      <td>S</td>\n",
       "      <td>59.0</td>\n",
       "      <td>2.30</td>\n",
       "      <td>1317.0</td>\n",
       "      <td>DX51D+ZM310MAO 2.3X1317</td>\n",
       "      <td>1.668702e+09</td>\n",
       "      <td>2021-01-01</td>\n",
       "      <td>768.00</td>\n",
       "    </tr>\n",
       "    <tr>\n",
       "      <th>FE372230-29B1-4A29-BB73-CB9D3078C286</th>\n",
       "      <td>2021-04-01</td>\n",
       "      <td>225.790676</td>\n",
       "      <td>30202938.0</td>\n",
       "      <td>25.0</td>\n",
       "      <td>Won</td>\n",
       "      <td>W</td>\n",
       "      <td>41.0</td>\n",
       "      <td>1.50</td>\n",
       "      <td>1265.0</td>\n",
       "      <td>102325</td>\n",
       "      <td>1.668702e+09</td>\n",
       "      <td>2021-04-01</td>\n",
       "      <td>983.00</td>\n",
       "    </tr>\n",
       "    <tr>\n",
       "      <th>AA3F18A2-A7D6-43DE-8644-F0632AE2CB68</th>\n",
       "      <td>2021-04-01</td>\n",
       "      <td>113.387124</td>\n",
       "      <td>30342192.0</td>\n",
       "      <td>32.0</td>\n",
       "      <td>Won</td>\n",
       "      <td>W</td>\n",
       "      <td>41.0</td>\n",
       "      <td>0.68</td>\n",
       "      <td>1220.0</td>\n",
       "      <td>1000944</td>\n",
       "      <td>6.119930e+05</td>\n",
       "      <td>2021-01-01</td>\n",
       "      <td>931.00</td>\n",
       "    </tr>\n",
       "    <tr>\n",
       "      <th>...</th>\n",
       "      <td>...</td>\n",
       "      <td>...</td>\n",
       "      <td>...</td>\n",
       "      <td>...</td>\n",
       "      <td>...</td>\n",
       "      <td>...</td>\n",
       "      <td>...</td>\n",
       "      <td>...</td>\n",
       "      <td>...</td>\n",
       "      <td>...</td>\n",
       "      <td>...</td>\n",
       "      <td>...</td>\n",
       "      <td>...</td>\n",
       "    </tr>\n",
       "    <tr>\n",
       "      <th>0B812591-B501-4F34-859A-B06381FAEB44</th>\n",
       "      <td>2020-07-02</td>\n",
       "      <td>106.783299</td>\n",
       "      <td>30200854.0</td>\n",
       "      <td>25.0</td>\n",
       "      <td>Won</td>\n",
       "      <td>W</td>\n",
       "      <td>41.0</td>\n",
       "      <td>0.96</td>\n",
       "      <td>1240.0</td>\n",
       "      <td>1000222</td>\n",
       "      <td>1.641416e+08</td>\n",
       "      <td>2020-07-01</td>\n",
       "      <td>602.00</td>\n",
       "    </tr>\n",
       "    <tr>\n",
       "      <th>DE633116-D1DF-4846-982E-55EFC3658A76</th>\n",
       "      <td>2020-07-02</td>\n",
       "      <td>102.482422</td>\n",
       "      <td>30200854.0</td>\n",
       "      <td>25.0</td>\n",
       "      <td>Won</td>\n",
       "      <td>W</td>\n",
       "      <td>41.0</td>\n",
       "      <td>0.96</td>\n",
       "      <td>1220.0</td>\n",
       "      <td>1000777</td>\n",
       "      <td>1.641416e+08</td>\n",
       "      <td>2020-07-01</td>\n",
       "      <td>591.00</td>\n",
       "    </tr>\n",
       "    <tr>\n",
       "      <th>A48374B1-E6DB-45F2-889A-1F9C27C099EB</th>\n",
       "      <td>2020-07-02</td>\n",
       "      <td>208.086469</td>\n",
       "      <td>30200854.0</td>\n",
       "      <td>25.0</td>\n",
       "      <td>Won</td>\n",
       "      <td>W</td>\n",
       "      <td>41.0</td>\n",
       "      <td>0.95</td>\n",
       "      <td>1500.0</td>\n",
       "      <td>1000227</td>\n",
       "      <td>1.641416e+08</td>\n",
       "      <td>2020-07-01</td>\n",
       "      <td>589.00</td>\n",
       "    </tr>\n",
       "    <tr>\n",
       "      <th>91643238-5C7B-4237-9A5F-63AE3D35F320</th>\n",
       "      <td>2020-07-02</td>\n",
       "      <td>4.235594</td>\n",
       "      <td>30200854.0</td>\n",
       "      <td>25.0</td>\n",
       "      <td>Won</td>\n",
       "      <td>W</td>\n",
       "      <td>41.0</td>\n",
       "      <td>0.71</td>\n",
       "      <td>1250.0</td>\n",
       "      <td>1004216</td>\n",
       "      <td>1.641416e+08</td>\n",
       "      <td>2020-07-01</td>\n",
       "      <td>619.00</td>\n",
       "    </tr>\n",
       "    <tr>\n",
       "      <th>AD0CA853-AE3C-4B2F-9FBB-8B0B965F84BC</th>\n",
       "      <td>2020-07-02</td>\n",
       "      <td>406.686538</td>\n",
       "      <td>30200854.0</td>\n",
       "      <td>25.0</td>\n",
       "      <td>Won</td>\n",
       "      <td>W</td>\n",
       "      <td>41.0</td>\n",
       "      <td>0.71</td>\n",
       "      <td>1240.0</td>\n",
       "      <td>1005439</td>\n",
       "      <td>1.641416e+08</td>\n",
       "      <td>2020-07-01</td>\n",
       "      <td>607.00</td>\n",
       "    </tr>\n",
       "  </tbody>\n",
       "</table>\n",
       "<p>168651 rows × 13 columns</p>\n",
       "</div>"
      ],
      "text/plain": [
       "                                      item_date  quantity tons    customer  \\\n",
       "id                                                                           \n",
       "EC06F063-9DF0-440C-8764-0B0C05A4F6AE 2021-04-01      54.151139  30156308.0   \n",
       "E140FF1B-2407-4C02-A0DD-780A093B1158 2021-04-01     386.127949  30153963.0   \n",
       "F8D507A0-9C62-4EFE-831E-33E1DA53BB50 2021-04-01     202.411065  30349574.0   \n",
       "FE372230-29B1-4A29-BB73-CB9D3078C286 2021-04-01     225.790676  30202938.0   \n",
       "AA3F18A2-A7D6-43DE-8644-F0632AE2CB68 2021-04-01     113.387124  30342192.0   \n",
       "...                                         ...            ...         ...   \n",
       "0B812591-B501-4F34-859A-B06381FAEB44 2020-07-02     106.783299  30200854.0   \n",
       "DE633116-D1DF-4846-982E-55EFC3658A76 2020-07-02     102.482422  30200854.0   \n",
       "A48374B1-E6DB-45F2-889A-1F9C27C099EB 2020-07-02     208.086469  30200854.0   \n",
       "91643238-5C7B-4237-9A5F-63AE3D35F320 2020-07-02       4.235594  30200854.0   \n",
       "AD0CA853-AE3C-4B2F-9FBB-8B0B965F84BC 2020-07-02     406.686538  30200854.0   \n",
       "\n",
       "                                      country status item type  application  \\\n",
       "id                                                                            \n",
       "EC06F063-9DF0-440C-8764-0B0C05A4F6AE     28.0    Won         W         10.0   \n",
       "E140FF1B-2407-4C02-A0DD-780A093B1158     30.0    Won        WI         28.0   \n",
       "F8D507A0-9C62-4EFE-831E-33E1DA53BB50     32.0    Won         S         59.0   \n",
       "FE372230-29B1-4A29-BB73-CB9D3078C286     25.0    Won         W         41.0   \n",
       "AA3F18A2-A7D6-43DE-8644-F0632AE2CB68     32.0    Won         W         41.0   \n",
       "...                                       ...    ...       ...          ...   \n",
       "0B812591-B501-4F34-859A-B06381FAEB44     25.0    Won         W         41.0   \n",
       "DE633116-D1DF-4846-982E-55EFC3658A76     25.0    Won         W         41.0   \n",
       "A48374B1-E6DB-45F2-889A-1F9C27C099EB     25.0    Won         W         41.0   \n",
       "91643238-5C7B-4237-9A5F-63AE3D35F320     25.0    Won         W         41.0   \n",
       "AD0CA853-AE3C-4B2F-9FBB-8B0B965F84BC     25.0    Won         W         41.0   \n",
       "\n",
       "                                      thickness   width  \\\n",
       "id                                                        \n",
       "EC06F063-9DF0-440C-8764-0B0C05A4F6AE       2.00  1500.0   \n",
       "E140FF1B-2407-4C02-A0DD-780A093B1158       0.38   952.0   \n",
       "F8D507A0-9C62-4EFE-831E-33E1DA53BB50       2.30  1317.0   \n",
       "FE372230-29B1-4A29-BB73-CB9D3078C286       1.50  1265.0   \n",
       "AA3F18A2-A7D6-43DE-8644-F0632AE2CB68       0.68  1220.0   \n",
       "...                                         ...     ...   \n",
       "0B812591-B501-4F34-859A-B06381FAEB44       0.96  1240.0   \n",
       "DE633116-D1DF-4846-982E-55EFC3658A76       0.96  1220.0   \n",
       "A48374B1-E6DB-45F2-889A-1F9C27C099EB       0.95  1500.0   \n",
       "91643238-5C7B-4237-9A5F-63AE3D35F320       0.71  1250.0   \n",
       "AD0CA853-AE3C-4B2F-9FBB-8B0B965F84BC       0.71  1240.0   \n",
       "\n",
       "                                                 material_ref   product_ref  \\\n",
       "id                                                                            \n",
       "EC06F063-9DF0-440C-8764-0B0C05A4F6AE              DEQ1 S460MC  1.670799e+09   \n",
       "E140FF1B-2407-4C02-A0DD-780A093B1158                 S0380700  6.283770e+05   \n",
       "F8D507A0-9C62-4EFE-831E-33E1DA53BB50  DX51D+ZM310MAO 2.3X1317  1.668702e+09   \n",
       "FE372230-29B1-4A29-BB73-CB9D3078C286                   102325  1.668702e+09   \n",
       "AA3F18A2-A7D6-43DE-8644-F0632AE2CB68                  1000944  6.119930e+05   \n",
       "...                                                       ...           ...   \n",
       "0B812591-B501-4F34-859A-B06381FAEB44                  1000222  1.641416e+08   \n",
       "DE633116-D1DF-4846-982E-55EFC3658A76                  1000777  1.641416e+08   \n",
       "A48374B1-E6DB-45F2-889A-1F9C27C099EB                  1000227  1.641416e+08   \n",
       "91643238-5C7B-4237-9A5F-63AE3D35F320                  1004216  1.641416e+08   \n",
       "AD0CA853-AE3C-4B2F-9FBB-8B0B965F84BC                  1005439  1.641416e+08   \n",
       "\n",
       "                                     delivery date  selling_price  \n",
       "id                                                                 \n",
       "EC06F063-9DF0-440C-8764-0B0C05A4F6AE    2021-07-01         854.00  \n",
       "E140FF1B-2407-4C02-A0DD-780A093B1158    2021-01-01         644.33  \n",
       "F8D507A0-9C62-4EFE-831E-33E1DA53BB50    2021-01-01         768.00  \n",
       "FE372230-29B1-4A29-BB73-CB9D3078C286    2021-04-01         983.00  \n",
       "AA3F18A2-A7D6-43DE-8644-F0632AE2CB68    2021-01-01         931.00  \n",
       "...                                            ...            ...  \n",
       "0B812591-B501-4F34-859A-B06381FAEB44    2020-07-01         602.00  \n",
       "DE633116-D1DF-4846-982E-55EFC3658A76    2020-07-01         591.00  \n",
       "A48374B1-E6DB-45F2-889A-1F9C27C099EB    2020-07-01         589.00  \n",
       "91643238-5C7B-4237-9A5F-63AE3D35F320    2020-07-01         619.00  \n",
       "AD0CA853-AE3C-4B2F-9FBB-8B0B965F84BC    2020-07-01         607.00  \n",
       "\n",
       "[168651 rows x 13 columns]"
      ]
     },
     "execution_count": 27,
     "metadata": {},
     "output_type": "execute_result"
    }
   ],
   "source": [
    "df2"
   ]
  },
  {
   "cell_type": "code",
   "execution_count": 28,
   "id": "713e139b",
   "metadata": {},
   "outputs": [
    {
     "name": "stderr",
     "output_type": "stream",
     "text": [
      "C:\\Users\\ADMIN\\AppData\\Local\\Temp\\ipykernel_3328\\757396937.py:1: UserWarning: \n",
      "\n",
      "`distplot` is a deprecated function and will be removed in seaborn v0.14.0.\n",
      "\n",
      "Please adapt your code to use either `displot` (a figure-level function with\n",
      "similar flexibility) or `histplot` (an axes-level function for histograms).\n",
      "\n",
      "For a guide to updating your code to use the new functions, please see\n",
      "https://gist.github.com/mwaskom/de44147ed2974457ad6372750bbe5751\n",
      "\n",
      "  sns.distplot(df2['quantity tons'])\n"
     ]
    },
    {
     "data": {
      "text/plain": [
       "<Axes: xlabel='quantity tons', ylabel='Density'>"
      ]
     },
     "execution_count": 28,
     "metadata": {},
     "output_type": "execute_result"
    },
    {
     "data": {
      "image/png": "[encoded data removed]",
      "text/plain": [
       "<Figure size 640x480 with 1 Axes>"
      ]
     },
     "metadata": {},
     "output_type": "display_data"
    }
   ],
   "source": [
    "sns.distplot(df2['quantity tons'])\n"
   ]
  },
  {
   "cell_type": "code",
   "execution_count": 29,
   "id": "c9a8a742",
   "metadata": {},
   "outputs": [],
   "source": [
    "df2.to_csv(\"coper_analysis2_data.csv\")"
   ]
  },
  {
   "cell_type": "code",
   "execution_count": 30,
   "id": "3cc615f5",
   "metadata": {},
   "outputs": [],
   "source": [
    "# df2[(df2['quantity tons']>150) &(df2['quantity tons']<500)]"
   ]
  },
  {
   "cell_type": "markdown",
   "id": "20cfaea6",
   "metadata": {},
   "source": [
    "# algarithm apply"
   ]
  },
  {
   "cell_type": "code",
   "execution_count": 31,
   "id": "de96fefd",
   "metadata": {},
   "outputs": [],
   "source": [
    "from sklearn.preprocessing import OrdinalEncoder\n",
    "for i in df2.columns:\n",
    "    if df2[i].dtype ==\"object\":\n",
    "#         print(i)\n",
    "        enc=OrdinalEncoder()\n",
    "        df2[i] = enc.fit_transform(df2[[i]])\n",
    "#         df1[i].unique()\n",
    "    else:\n",
    "        pass"
   ]
  },
  {
   "cell_type": "code",
   "execution_count": 32,
   "id": "49f19ecf",
   "metadata": {},
   "outputs": [
    {
     "name": "stderr",
     "output_type": "stream",
     "text": [
      "C:\\Users\\ADMIN\\AppData\\Local\\Temp\\ipykernel_3328\\1802063977.py:1: UserWarning: \n",
      "\n",
      "`distplot` is a deprecated function and will be removed in seaborn v0.14.0.\n",
      "\n",
      "Please adapt your code to use either `displot` (a figure-level function with\n",
      "similar flexibility) or `histplot` (an axes-level function for histograms).\n",
      "\n",
      "For a guide to updating your code to use the new functions, please see\n",
      "https://gist.github.com/mwaskom/de44147ed2974457ad6372750bbe5751\n",
      "\n",
      "  sns.distplot(df2['selling_price'])\n"
     ]
    },
    {
     "data": {
      "text/plain": [
       "<Axes: xlabel='selling_price', ylabel='Density'>"
      ]
     },
     "execution_count": 32,
     "metadata": {},
     "output_type": "execute_result"
    },
    {
     "data": {
      "image/png": "[encoded data removed]",
      "text/plain": [
       "<Figure size 640x480 with 1 Axes>"
      ]
     },
     "metadata": {},
     "output_type": "display_data"
    }
   ],
   "source": [
    "sns.distplot(df2['selling_price'])"
   ]
  },
  {
   "cell_type": "code",
   "execution_count": 33,
   "id": "6cd99fc4",
   "metadata": {},
   "outputs": [],
   "source": [
    "# sns.lineplot(df2['selling_price'])"
   ]
  },
  {
   "cell_type": "code",
   "execution_count": 34,
   "id": "a9cd87b2",
   "metadata": {},
   "outputs": [
    {
     "data": {
      "text/html": [
       "<div>\n",
       "<style scoped>\n",
       "    .dataframe tbody tr th:only-of-type {\n",
       "        vertical-align: middle;\n",
       "    }\n",
       "\n",
       "    .dataframe tbody tr th {\n",
       "        vertical-align: top;\n",
       "    }\n",
       "\n",
       "    .dataframe thead th {\n",
       "        text-align: right;\n",
       "    }\n",
       "</style>\n",
       "<table border=\"1\" class=\"dataframe\">\n",
       "  <thead>\n",
       "    <tr style=\"text-align: right;\">\n",
       "      <th></th>\n",
       "      <th>item_date</th>\n",
       "      <th>quantity tons</th>\n",
       "      <th>customer</th>\n",
       "      <th>country</th>\n",
       "      <th>status</th>\n",
       "      <th>item type</th>\n",
       "      <th>application</th>\n",
       "      <th>thickness</th>\n",
       "      <th>width</th>\n",
       "      <th>material_ref</th>\n",
       "      <th>product_ref</th>\n",
       "      <th>delivery date</th>\n",
       "      <th>selling_price</th>\n",
       "    </tr>\n",
       "    <tr>\n",
       "      <th>id</th>\n",
       "      <th></th>\n",
       "      <th></th>\n",
       "      <th></th>\n",
       "      <th></th>\n",
       "      <th></th>\n",
       "      <th></th>\n",
       "      <th></th>\n",
       "      <th></th>\n",
       "      <th></th>\n",
       "      <th></th>\n",
       "      <th></th>\n",
       "      <th></th>\n",
       "      <th></th>\n",
       "    </tr>\n",
       "  </thead>\n",
       "  <tbody>\n",
       "    <tr>\n",
       "      <th>EC06F063-9DF0-440C-8764-0B0C05A4F6AE</th>\n",
       "      <td>2021-04-01</td>\n",
       "      <td>54.151139</td>\n",
       "      <td>30156308.0</td>\n",
       "      <td>28.0</td>\n",
       "      <td>6.0</td>\n",
       "      <td>5.0</td>\n",
       "      <td>10.0</td>\n",
       "      <td>2.00</td>\n",
       "      <td>1500.0</td>\n",
       "      <td>9940.0</td>\n",
       "      <td>1.670799e+09</td>\n",
       "      <td>2021-07-01</td>\n",
       "      <td>854.00</td>\n",
       "    </tr>\n",
       "    <tr>\n",
       "      <th>E140FF1B-2407-4C02-A0DD-780A093B1158</th>\n",
       "      <td>2021-04-01</td>\n",
       "      <td>386.127949</td>\n",
       "      <td>30153963.0</td>\n",
       "      <td>30.0</td>\n",
       "      <td>6.0</td>\n",
       "      <td>6.0</td>\n",
       "      <td>28.0</td>\n",
       "      <td>0.38</td>\n",
       "      <td>952.0</td>\n",
       "      <td>14120.0</td>\n",
       "      <td>6.283770e+05</td>\n",
       "      <td>2021-01-01</td>\n",
       "      <td>644.33</td>\n",
       "    </tr>\n",
       "    <tr>\n",
       "      <th>F8D507A0-9C62-4EFE-831E-33E1DA53BB50</th>\n",
       "      <td>2021-04-01</td>\n",
       "      <td>202.411065</td>\n",
       "      <td>30349574.0</td>\n",
       "      <td>32.0</td>\n",
       "      <td>6.0</td>\n",
       "      <td>3.0</td>\n",
       "      <td>59.0</td>\n",
       "      <td>2.30</td>\n",
       "      <td>1317.0</td>\n",
       "      <td>10214.0</td>\n",
       "      <td>1.668702e+09</td>\n",
       "      <td>2021-01-01</td>\n",
       "      <td>768.00</td>\n",
       "    </tr>\n",
       "    <tr>\n",
       "      <th>FE372230-29B1-4A29-BB73-CB9D3078C286</th>\n",
       "      <td>2021-04-01</td>\n",
       "      <td>225.790676</td>\n",
       "      <td>30202938.0</td>\n",
       "      <td>25.0</td>\n",
       "      <td>6.0</td>\n",
       "      <td>5.0</td>\n",
       "      <td>41.0</td>\n",
       "      <td>1.50</td>\n",
       "      <td>1265.0</td>\n",
       "      <td>1707.0</td>\n",
       "      <td>1.668702e+09</td>\n",
       "      <td>2021-04-01</td>\n",
       "      <td>983.00</td>\n",
       "    </tr>\n",
       "    <tr>\n",
       "      <th>AA3F18A2-A7D6-43DE-8644-F0632AE2CB68</th>\n",
       "      <td>2021-04-01</td>\n",
       "      <td>113.387124</td>\n",
       "      <td>30342192.0</td>\n",
       "      <td>32.0</td>\n",
       "      <td>6.0</td>\n",
       "      <td>5.0</td>\n",
       "      <td>41.0</td>\n",
       "      <td>0.68</td>\n",
       "      <td>1220.0</td>\n",
       "      <td>1015.0</td>\n",
       "      <td>6.119930e+05</td>\n",
       "      <td>2021-01-01</td>\n",
       "      <td>931.00</td>\n",
       "    </tr>\n",
       "  </tbody>\n",
       "</table>\n",
       "</div>"
      ],
      "text/plain": [
       "                                      item_date  quantity tons    customer  \\\n",
       "id                                                                           \n",
       "EC06F063-9DF0-440C-8764-0B0C05A4F6AE 2021-04-01      54.151139  30156308.0   \n",
       "E140FF1B-2407-4C02-A0DD-780A093B1158 2021-04-01     386.127949  30153963.0   \n",
       "F8D507A0-9C62-4EFE-831E-33E1DA53BB50 2021-04-01     202.411065  30349574.0   \n",
       "FE372230-29B1-4A29-BB73-CB9D3078C286 2021-04-01     225.790676  30202938.0   \n",
       "AA3F18A2-A7D6-43DE-8644-F0632AE2CB68 2021-04-01     113.387124  30342192.0   \n",
       "\n",
       "                                      country  status  item type  application  \\\n",
       "id                                                                              \n",
       "EC06F063-9DF0-440C-8764-0B0C05A4F6AE     28.0     6.0        5.0         10.0   \n",
       "E140FF1B-2407-4C02-A0DD-780A093B1158     30.0     6.0        6.0         28.0   \n",
       "F8D507A0-9C62-4EFE-831E-33E1DA53BB50     32.0     6.0        3.0         59.0   \n",
       "FE372230-29B1-4A29-BB73-CB9D3078C286     25.0     6.0        5.0         41.0   \n",
       "AA3F18A2-A7D6-43DE-8644-F0632AE2CB68     32.0     6.0        5.0         41.0   \n",
       "\n",
       "                                      thickness   width  material_ref  \\\n",
       "id                                                                      \n",
       "EC06F063-9DF0-440C-8764-0B0C05A4F6AE       2.00  1500.0        9940.0   \n",
       "E140FF1B-2407-4C02-A0DD-780A093B1158       0.38   952.0       14120.0   \n",
       "F8D507A0-9C62-4EFE-831E-33E1DA53BB50       2.30  1317.0       10214.0   \n",
       "FE372230-29B1-4A29-BB73-CB9D3078C286       1.50  1265.0        1707.0   \n",
       "AA3F18A2-A7D6-43DE-8644-F0632AE2CB68       0.68  1220.0        1015.0   \n",
       "\n",
       "                                       product_ref delivery date  \\\n",
       "id                                                                 \n",
       "EC06F063-9DF0-440C-8764-0B0C05A4F6AE  1.670799e+09    2021-07-01   \n",
       "E140FF1B-2407-4C02-A0DD-780A093B1158  6.283770e+05    2021-01-01   \n",
       "F8D507A0-9C62-4EFE-831E-33E1DA53BB50  1.668702e+09    2021-01-01   \n",
       "FE372230-29B1-4A29-BB73-CB9D3078C286  1.668702e+09    2021-04-01   \n",
       "AA3F18A2-A7D6-43DE-8644-F0632AE2CB68  6.119930e+05    2021-01-01   \n",
       "\n",
       "                                      selling_price  \n",
       "id                                                   \n",
       "EC06F063-9DF0-440C-8764-0B0C05A4F6AE         854.00  \n",
       "E140FF1B-2407-4C02-A0DD-780A093B1158         644.33  \n",
       "F8D507A0-9C62-4EFE-831E-33E1DA53BB50         768.00  \n",
       "FE372230-29B1-4A29-BB73-CB9D3078C286         983.00  \n",
       "AA3F18A2-A7D6-43DE-8644-F0632AE2CB68         931.00  "
      ]
     },
     "execution_count": 34,
     "metadata": {},
     "output_type": "execute_result"
    }
   ],
   "source": [
    "df2.head()"
   ]
  },
  {
   "cell_type": "code",
   "execution_count": 35,
   "id": "1f7c045e",
   "metadata": {},
   "outputs": [],
   "source": [
    "# df2.to_csv('coper_int_dataset.csv')"
   ]
  },
  {
   "cell_type": "markdown",
   "id": "cd2dfb31",
   "metadata": {},
   "source": [
    "# dependent and independ "
   ]
  },
  {
   "cell_type": "code",
   "execution_count": 36,
   "id": "ddedf03b",
   "metadata": {},
   "outputs": [],
   "source": [
    "x=df2[['quantity tons','customer','country','status','item type','thickness','width','product_ref']]\n",
    "y=df2['selling_price']"
   ]
  },
  {
   "cell_type": "markdown",
   "id": "3ec3b58a",
   "metadata": {},
   "source": [
    "# train model "
   ]
  },
  {
   "cell_type": "code",
   "execution_count": 37,
   "id": "df38f246",
   "metadata": {},
   "outputs": [
    {
     "data": {
      "text/plain": [
       "((126488, 8), (42163, 8), (126488,), (42163,))"
      ]
     },
     "execution_count": 37,
     "metadata": {},
     "output_type": "execute_result"
    }
   ],
   "source": [
    "from sklearn.model_selection import train_test_split\n",
    "x_train,x_test,y_train,y_test = train_test_split(x,y,test_size=0.25)\n",
    "# x_train,x_test,y_train,y_test = train_test_split(x,y,test_size=0.2,random_state=23)\n",
    "x_train.shape,x_test.shape,y_train.shape,y_test.shape"
   ]
  },
  {
   "cell_type": "markdown",
   "id": "8319599d",
   "metadata": {},
   "source": [
    "# using lazy predict"
   ]
  },
  {
   "cell_type": "code",
   "execution_count": 38,
   "id": "50373295",
   "metadata": {},
   "outputs": [],
   "source": [
    "# !pip install lazypredict"
   ]
  },
  {
   "cell_type": "code",
   "execution_count": 39,
   "id": "a1d7f9f8",
   "metadata": {},
   "outputs": [],
   "source": [
    "from lazypredict.Supervised import LazyRegressor\n"
   ]
  },
  {
   "cell_type": "code",
   "execution_count": 40,
   "id": "ce03e544",
   "metadata": {},
   "outputs": [],
   "source": [
    "# clf = LazyRegressor(verbose=0,ignore_warnings=True, custom_metric=None)\n",
    "# models,predictions = clf.fit(x_train, x_test, y_train, y_test)\n"
   ]
  },
  {
   "cell_type": "code",
   "execution_count": 41,
   "id": "c6b48af1",
   "metadata": {},
   "outputs": [],
   "source": [
    "# print(models)"
   ]
  },
  {
   "cell_type": "code",
   "execution_count": 42,
   "id": "287f641d",
   "metadata": {},
   "outputs": [],
   "source": [
    "# print(predictions)"
   ]
  },
  {
   "cell_type": "markdown",
   "id": "7660e5be",
   "metadata": {},
   "source": [
    "# random forest regression"
   ]
  },
  {
   "cell_type": "code",
   "execution_count": 43,
   "id": "c65eca3d",
   "metadata": {},
   "outputs": [],
   "source": [
    "from sklearn.ensemble import RandomForestRegressor"
   ]
  },
  {
   "cell_type": "code",
   "execution_count": 44,
   "id": "5e762d18",
   "metadata": {},
   "outputs": [
    {
     "ename": "SyntaxError",
     "evalue": "invalid syntax (3237676185.py, line 1)",
     "output_type": "error",
     "traceback": [
      "\u001b[1;36m  Cell \u001b[1;32mIn[44], line 1\u001b[1;36m\u001b[0m\n\u001b[1;33m    model= RandomForestRegressor(n_estimators=100,random_state=50,max_depth=50,min_samples_split=25)!\u001b[0m\n\u001b[1;37m                                                                                                    ^\u001b[0m\n\u001b[1;31mSyntaxError\u001b[0m\u001b[1;31m:\u001b[0m invalid syntax\n"
     ]
    }
   ],
   "source": [
    "model= RandomForestRegressor(n_estimators=100,random_state=50,max_depth=50,min_samples_split=25)!\n",
    "model.fit(x_train, y_train)"
   ]
  },
  {
   "cell_type": "code",
   "execution_count": null,
   "id": "a74dc4ce",
   "metadata": {},
   "outputs": [],
   "source": [
    "y_pred=model.predict(x_test)"
   ]
  },
  {
   "cell_type": "code",
   "execution_count": null,
   "id": "39055c1f",
   "metadata": {},
   "outputs": [],
   "source": [
    "from sklearn.metrics import mean_squared_error,mean_absolute_error\n",
    "mean_squared_error(y_pred,y_test)"
   ]
  },
  {
   "cell_type": "code",
   "execution_count": null,
   "id": "bf029e2b",
   "metadata": {},
   "outputs": [],
   "source": [
    "mean_absolute_error(y_pred,y_test)"
   ]
  },
  {
   "cell_type": "code",
   "execution_count": 101,
   "id": "442ee5fb",
   "metadata": {},
   "outputs": [
    {
     "data": {
      "text/html": [
       "<div>\n",
       "<style scoped>\n",
       "    .dataframe tbody tr th:only-of-type {\n",
       "        vertical-align: middle;\n",
       "    }\n",
       "\n",
       "    .dataframe tbody tr th {\n",
       "        vertical-align: top;\n",
       "    }\n",
       "\n",
       "    .dataframe thead th {\n",
       "        text-align: right;\n",
       "    }\n",
       "</style>\n",
       "<table border=\"1\" class=\"dataframe\">\n",
       "  <thead>\n",
       "    <tr style=\"text-align: right;\">\n",
       "      <th></th>\n",
       "      <th>quantity tons</th>\n",
       "      <th>customer</th>\n",
       "      <th>country</th>\n",
       "      <th>status</th>\n",
       "      <th>item type</th>\n",
       "      <th>thickness</th>\n",
       "      <th>width</th>\n",
       "      <th>product_ref</th>\n",
       "    </tr>\n",
       "    <tr>\n",
       "      <th>id</th>\n",
       "      <th></th>\n",
       "      <th></th>\n",
       "      <th></th>\n",
       "      <th></th>\n",
       "      <th></th>\n",
       "      <th></th>\n",
       "      <th></th>\n",
       "      <th></th>\n",
       "    </tr>\n",
       "  </thead>\n",
       "  <tbody>\n",
       "    <tr>\n",
       "      <th>EC06F063-9DF0-440C-8764-0B0C05A4F6AE</th>\n",
       "      <td>54.15</td>\n",
       "      <td>30156308.00</td>\n",
       "      <td>28.00</td>\n",
       "      <td>6.00</td>\n",
       "      <td>5.00</td>\n",
       "      <td>2.00</td>\n",
       "      <td>1500.00</td>\n",
       "      <td>1670798778.00</td>\n",
       "    </tr>\n",
       "    <tr>\n",
       "      <th>E140FF1B-2407-4C02-A0DD-780A093B1158</th>\n",
       "      <td>386.13</td>\n",
       "      <td>30153963.00</td>\n",
       "      <td>30.00</td>\n",
       "      <td>6.00</td>\n",
       "      <td>6.00</td>\n",
       "      <td>0.38</td>\n",
       "      <td>952.00</td>\n",
       "      <td>628377.00</td>\n",
       "    </tr>\n",
       "    <tr>\n",
       "      <th>F8D507A0-9C62-4EFE-831E-33E1DA53BB50</th>\n",
       "      <td>202.41</td>\n",
       "      <td>30349574.00</td>\n",
       "      <td>32.00</td>\n",
       "      <td>6.00</td>\n",
       "      <td>3.00</td>\n",
       "      <td>2.30</td>\n",
       "      <td>1317.00</td>\n",
       "      <td>1668701718.00</td>\n",
       "    </tr>\n",
       "    <tr>\n",
       "      <th>FE372230-29B1-4A29-BB73-CB9D3078C286</th>\n",
       "      <td>225.79</td>\n",
       "      <td>30202938.00</td>\n",
       "      <td>25.00</td>\n",
       "      <td>6.00</td>\n",
       "      <td>5.00</td>\n",
       "      <td>1.50</td>\n",
       "      <td>1265.00</td>\n",
       "      <td>1668701718.00</td>\n",
       "    </tr>\n",
       "    <tr>\n",
       "      <th>AA3F18A2-A7D6-43DE-8644-F0632AE2CB68</th>\n",
       "      <td>113.39</td>\n",
       "      <td>30342192.00</td>\n",
       "      <td>32.00</td>\n",
       "      <td>6.00</td>\n",
       "      <td>5.00</td>\n",
       "      <td>0.68</td>\n",
       "      <td>1220.00</td>\n",
       "      <td>611993.00</td>\n",
       "    </tr>\n",
       "  </tbody>\n",
       "</table>\n",
       "</div>"
      ],
      "text/plain": [
       "                                      quantity tons    customer  country  \\\n",
       "id                                                                         \n",
       "EC06F063-9DF0-440C-8764-0B0C05A4F6AE          54.15 30156308.00    28.00   \n",
       "E140FF1B-2407-4C02-A0DD-780A093B1158         386.13 30153963.00    30.00   \n",
       "F8D507A0-9C62-4EFE-831E-33E1DA53BB50         202.41 30349574.00    32.00   \n",
       "FE372230-29B1-4A29-BB73-CB9D3078C286         225.79 30202938.00    25.00   \n",
       "AA3F18A2-A7D6-43DE-8644-F0632AE2CB68         113.39 30342192.00    32.00   \n",
       "\n",
       "                                      status  item type  thickness   width  \\\n",
       "id                                                                           \n",
       "EC06F063-9DF0-440C-8764-0B0C05A4F6AE    6.00       5.00       2.00 1500.00   \n",
       "E140FF1B-2407-4C02-A0DD-780A093B1158    6.00       6.00       0.38  952.00   \n",
       "F8D507A0-9C62-4EFE-831E-33E1DA53BB50    6.00       3.00       2.30 1317.00   \n",
       "FE372230-29B1-4A29-BB73-CB9D3078C286    6.00       5.00       1.50 1265.00   \n",
       "AA3F18A2-A7D6-43DE-8644-F0632AE2CB68    6.00       5.00       0.68 1220.00   \n",
       "\n",
       "                                       product_ref  \n",
       "id                                                  \n",
       "EC06F063-9DF0-440C-8764-0B0C05A4F6AE 1670798778.00  \n",
       "E140FF1B-2407-4C02-A0DD-780A093B1158     628377.00  \n",
       "F8D507A0-9C62-4EFE-831E-33E1DA53BB50 1668701718.00  \n",
       "FE372230-29B1-4A29-BB73-CB9D3078C286 1668701718.00  \n",
       "AA3F18A2-A7D6-43DE-8644-F0632AE2CB68     611993.00  "
      ]
     },
     "execution_count": 101,
     "metadata": {},
     "output_type": "execute_result"
    }
   ],
   "source": [
    "x.head()"
   ]
  },
  {
   "cell_type": "code",
   "execution_count": null,
   "id": "b7785630",
   "metadata": {},
   "outputs": [],
   "source": [
    "import pickle"
   ]
  },
  {
   "cell_type": "code",
   "execution_count": null,
   "id": "00daa8d1",
   "metadata": {},
   "outputs": [],
   "source": [
    "with open('bagging_regression.pkl','wb') as file:\n",
    "    pickle.dump(model,file)\n",
    "    "
   ]
  },
  {
   "cell_type": "code",
   "execution_count": null,
   "id": "9ef37b0f",
   "metadata": {},
   "outputs": [],
   "source": [
    "with open('bagging_regression.pkl','rb') as file:\n",
    "    Result = pickle.load(file)"
   ]
  },
  {
   "cell_type": "code",
   "execution_count": null,
   "id": "ce09f86c",
   "metadata": {},
   "outputs": [],
   "source": [
    "y=np.array([[3.20,30198507.00,26.00,0.00,5.00,1.25,1250.00,628377.00]])\n",
    "Result.predict(y)"
   ]
  },
  {
   "cell_type": "code",
   "execution_count": null,
   "id": "75e074fd",
   "metadata": {},
   "outputs": [],
   "source": [
    "# y_pred=np.array([[386.127949,30.0,1.0,7.0,10.00,0.38,952.0,1670798778.00]])\n",
    "model.predict(y)"
   ]
  },
  {
   "cell_type": "markdown",
   "id": "ffdd7dfe",
   "metadata": {},
   "source": [
    "# bagging regression\n"
   ]
  },
  {
   "cell_type": "code",
   "execution_count": null,
   "id": "6d06ba70",
   "metadata": {},
   "outputs": [],
   "source": [
    "from sklearn.ensemble import BaggingRegressor"
   ]
  },
  {
   "cell_type": "code",
   "execution_count": null,
   "id": "48dc39da",
   "metadata": {},
   "outputs": [],
   "source": [
    "model=BaggingRegressor(n_estimators=100, random_state=10)"
   ]
  },
  {
   "cell_type": "code",
   "execution_count": null,
   "id": "4faaf31d",
   "metadata": {},
   "outputs": [],
   "source": [
    "model.fit(x_train, y_train)"
   ]
  },
  {
   "cell_type": "code",
   "execution_count": null,
   "id": "b4b5e5e2",
   "metadata": {},
   "outputs": [],
   "source": [
    "y_pred=model.predict(x_test)\n"
   ]
  },
  {
   "cell_type": "code",
   "execution_count": null,
   "id": "734df83d",
   "metadata": {},
   "outputs": [],
   "source": [
    "mean_absolute_error(y_pred,y_test)"
   ]
  },
  {
   "cell_type": "code",
   "execution_count": null,
   "id": "8a9455d4",
   "metadata": {},
   "outputs": [],
   "source": [
    "mean_squared_error(y_pred,y_test)"
   ]
  },
  {
   "cell_type": "code",
   "execution_count": null,
   "id": "2d1db641",
   "metadata": {},
   "outputs": [],
   "source": [
    "import pickle"
   ]
  },
  {
   "cell_type": "code",
   "execution_count": null,
   "id": "a9a69907",
   "metadata": {},
   "outputs": [],
   "source": [
    "with open('bagging_regression.pkl','wb') as file:\n",
    "    pickle.dump(model,file)\n",
    "    \n"
   ]
  },
  {
   "cell_type": "code",
   "execution_count": null,
   "id": "c9d8697c",
   "metadata": {},
   "outputs": [],
   "source": [
    "with open('bagging_regression.pkl','rb') as file:\n",
    "    Result = pickle.load(file)"
   ]
  },
  {
   "cell_type": "code",
   "execution_count": null,
   "id": "d8df4d98",
   "metadata": {},
   "outputs": [],
   "source": [
    "y_pred=Result.predict(x_test)"
   ]
  },
  {
   "cell_type": "code",
   "execution_count": null,
   "id": "5538247d",
   "metadata": {},
   "outputs": [],
   "source": [
    "mean_absolute_error(y_pred,y_test)"
   ]
  },
  {
   "cell_type": "code",
   "execution_count": null,
   "id": "8b6b8510",
   "metadata": {},
   "outputs": [],
   "source": [
    "x_test.head(1)"
   ]
  },
  {
   "cell_type": "code",
   "execution_count": null,
   "id": "6392496f",
   "metadata": {},
   "outputs": [],
   "source": [
    "x.columns"
   ]
  },
  {
   "cell_type": "code",
   "execution_count": null,
   "id": "a61d5d8c",
   "metadata": {},
   "outputs": [],
   "source": [
    "y_test.head(1)"
   ]
  },
  {
   "cell_type": "code",
   "execution_count": null,
   "id": "1550eee5",
   "metadata": {},
   "outputs": [],
   "source": [
    "a=829.73\n",
    "b=30155824.00\n",
    "c=22.00\n",
    "d=0.00\n",
    "e=5.00\n",
    "f=0.70\n",
    "g=3500.00\n",
    "h=611993.00"
   ]
  },
  {
   "cell_type": "code",
   "execution_count": null,
   "id": "a9361969",
   "metadata": {},
   "outputs": [],
   "source": [
    "lis=[]\n",
    "lis.append(a)\n",
    "lis.append(b)\n",
    "lis.append(c)\n",
    "lis.append(d)\n",
    "lis.append(e)\n",
    "lis.append(f)\n",
    "lis.append(g)\n",
    "lis.append(h) \n",
    "print(lis)"
   ]
  },
  {
   "cell_type": "code",
   "execution_count": null,
   "id": "086419bd",
   "metadata": {},
   "outputs": [],
   "source": [
    "y=np.array([lis])"
   ]
  },
  {
   "cell_type": "code",
   "execution_count": null,
   "id": "4d49461d",
   "metadata": {},
   "outputs": [],
   "source": [
    "model.predict(y)"
   ]
  },
  {
   "cell_type": "code",
   "execution_count": null,
   "id": "0c2ab384",
   "metadata": {},
   "outputs": [],
   "source": [
    " "
   ]
  },
  {
   "cell_type": "code",
   "execution_count": null,
   "id": "59143068",
   "metadata": {},
   "outputs": [],
   "source": [
    "y_test.head(1)"
   ]
  },
  {
   "cell_type": "markdown",
   "id": "47c53ea5",
   "metadata": {},
   "source": [
    "# extratree regresion "
   ]
  },
  {
   "cell_type": "code",
   "execution_count": null,
   "id": "827223f2",
   "metadata": {},
   "outputs": [],
   "source": []
  },
  {
   "cell_type": "code",
   "execution_count": null,
   "id": "2dd0276e",
   "metadata": {},
   "outputs": [],
   "source": [
    "from sklearn.ensemble import ExtraTreesRegressor"
   ]
  },
  {
   "cell_type": "code",
   "execution_count": null,
   "id": "dc4b51df",
   "metadata": {},
   "outputs": [],
   "source": [
    "model=ExtraTreesRegressor(n_estimators=50,random_state=10)\n",
    "model.fit(x_train,y_train)\n"
   ]
  },
  {
   "cell_type": "code",
   "execution_count": null,
   "id": "5a9554f9",
   "metadata": {},
   "outputs": [],
   "source": [
    "y_pred=model.predict(x_test)"
   ]
  },
  {
   "cell_type": "code",
   "execution_count": null,
   "id": "fa371f34",
   "metadata": {},
   "outputs": [],
   "source": [
    "mean_squared_error(y_pred,y_test)"
   ]
  },
  {
   "cell_type": "code",
   "execution_count": null,
   "id": "f27b5022",
   "metadata": {},
   "outputs": [],
   "source": [
    "mean_absolute_error(y_pred,y_test)"
   ]
  },
  {
   "cell_type": "code",
   "execution_count": null,
   "id": "d21a8f6b",
   "metadata": {},
   "outputs": [],
   "source": []
  },
  {
   "cell_type": "code",
   "execution_count": null,
   "id": "da7e8496",
   "metadata": {},
   "outputs": [],
   "source": [
    "y=np.array([[54.15,30156308.00,28.00,0.00,5.00,2.00,1500.00,1670798778.00]])"
   ]
  },
  {
   "cell_type": "code",
   "execution_count": null,
   "id": "085b9284",
   "metadata": {},
   "outputs": [],
   "source": [
    "model.predict(y)"
   ]
  },
  {
   "cell_type": "code",
   "execution_count": null,
   "id": "c1be4df5",
   "metadata": {},
   "outputs": [],
   "source": [
    "df2.head(1)"
   ]
  },
  {
   "cell_type": "markdown",
   "id": "e173134a",
   "metadata": {},
   "source": [
    "# classifier"
   ]
  },
  {
   "cell_type": "code",
   "execution_count": 45,
   "id": "63d96dcb",
   "metadata": {},
   "outputs": [
    {
     "data": {
      "text/html": [
       "<div>\n",
       "<style scoped>\n",
       "    .dataframe tbody tr th:only-of-type {\n",
       "        vertical-align: middle;\n",
       "    }\n",
       "\n",
       "    .dataframe tbody tr th {\n",
       "        vertical-align: top;\n",
       "    }\n",
       "\n",
       "    .dataframe thead th {\n",
       "        text-align: right;\n",
       "    }\n",
       "</style>\n",
       "<table border=\"1\" class=\"dataframe\">\n",
       "  <thead>\n",
       "    <tr style=\"text-align: right;\">\n",
       "      <th></th>\n",
       "      <th>item_date</th>\n",
       "      <th>quantity tons</th>\n",
       "      <th>customer</th>\n",
       "      <th>country</th>\n",
       "      <th>status</th>\n",
       "      <th>item type</th>\n",
       "      <th>application</th>\n",
       "      <th>thickness</th>\n",
       "      <th>width</th>\n",
       "      <th>material_ref</th>\n",
       "      <th>product_ref</th>\n",
       "      <th>delivery date</th>\n",
       "      <th>selling_price</th>\n",
       "    </tr>\n",
       "    <tr>\n",
       "      <th>id</th>\n",
       "      <th></th>\n",
       "      <th></th>\n",
       "      <th></th>\n",
       "      <th></th>\n",
       "      <th></th>\n",
       "      <th></th>\n",
       "      <th></th>\n",
       "      <th></th>\n",
       "      <th></th>\n",
       "      <th></th>\n",
       "      <th></th>\n",
       "      <th></th>\n",
       "      <th></th>\n",
       "    </tr>\n",
       "  </thead>\n",
       "  <tbody>\n",
       "    <tr>\n",
       "      <th>EC06F063-9DF0-440C-8764-0B0C05A4F6AE</th>\n",
       "      <td>2021-04-01</td>\n",
       "      <td>54.15</td>\n",
       "      <td>30156308.00</td>\n",
       "      <td>28.00</td>\n",
       "      <td>Won</td>\n",
       "      <td>W</td>\n",
       "      <td>10.00</td>\n",
       "      <td>2.00</td>\n",
       "      <td>1500.00</td>\n",
       "      <td>DEQ1 S460MC</td>\n",
       "      <td>1670798778.00</td>\n",
       "      <td>2021-07-01</td>\n",
       "      <td>854.00</td>\n",
       "    </tr>\n",
       "    <tr>\n",
       "      <th>E140FF1B-2407-4C02-A0DD-780A093B1158</th>\n",
       "      <td>2021-04-01</td>\n",
       "      <td>386.13</td>\n",
       "      <td>30153963.00</td>\n",
       "      <td>30.00</td>\n",
       "      <td>Won</td>\n",
       "      <td>WI</td>\n",
       "      <td>28.00</td>\n",
       "      <td>0.38</td>\n",
       "      <td>952.00</td>\n",
       "      <td>S0380700</td>\n",
       "      <td>628377.00</td>\n",
       "      <td>2021-01-01</td>\n",
       "      <td>644.33</td>\n",
       "    </tr>\n",
       "    <tr>\n",
       "      <th>F8D507A0-9C62-4EFE-831E-33E1DA53BB50</th>\n",
       "      <td>2021-04-01</td>\n",
       "      <td>202.41</td>\n",
       "      <td>30349574.00</td>\n",
       "      <td>32.00</td>\n",
       "      <td>Won</td>\n",
       "      <td>S</td>\n",
       "      <td>59.00</td>\n",
       "      <td>2.30</td>\n",
       "      <td>1317.00</td>\n",
       "      <td>DX51D+ZM310MAO 2.3X1317</td>\n",
       "      <td>1668701718.00</td>\n",
       "      <td>2021-01-01</td>\n",
       "      <td>768.00</td>\n",
       "    </tr>\n",
       "    <tr>\n",
       "      <th>FE372230-29B1-4A29-BB73-CB9D3078C286</th>\n",
       "      <td>2021-04-01</td>\n",
       "      <td>225.79</td>\n",
       "      <td>30202938.00</td>\n",
       "      <td>25.00</td>\n",
       "      <td>Won</td>\n",
       "      <td>W</td>\n",
       "      <td>41.00</td>\n",
       "      <td>1.50</td>\n",
       "      <td>1265.00</td>\n",
       "      <td>102325</td>\n",
       "      <td>1668701718.00</td>\n",
       "      <td>2021-04-01</td>\n",
       "      <td>983.00</td>\n",
       "    </tr>\n",
       "    <tr>\n",
       "      <th>E1B47219-42C8-411D-AE46-AD5256DC4757</th>\n",
       "      <td>2021-04-01</td>\n",
       "      <td>3.52</td>\n",
       "      <td>30209509.00</td>\n",
       "      <td>30.00</td>\n",
       "      <td>Draft</td>\n",
       "      <td>W</td>\n",
       "      <td>41.00</td>\n",
       "      <td>0.38</td>\n",
       "      <td>1125.00</td>\n",
       "      <td>NBW_L+_A_1125_0.4</td>\n",
       "      <td>611993.00</td>\n",
       "      <td>2021-07-01</td>\n",
       "      <td>18.00</td>\n",
       "    </tr>\n",
       "  </tbody>\n",
       "</table>\n",
       "</div>"
      ],
      "text/plain": [
       "                                      item_date  quantity tons    customer  \\\n",
       "id                                                                           \n",
       "EC06F063-9DF0-440C-8764-0B0C05A4F6AE 2021-04-01          54.15 30156308.00   \n",
       "E140FF1B-2407-4C02-A0DD-780A093B1158 2021-04-01         386.13 30153963.00   \n",
       "F8D507A0-9C62-4EFE-831E-33E1DA53BB50 2021-04-01         202.41 30349574.00   \n",
       "FE372230-29B1-4A29-BB73-CB9D3078C286 2021-04-01         225.79 30202938.00   \n",
       "E1B47219-42C8-411D-AE46-AD5256DC4757 2021-04-01           3.52 30209509.00   \n",
       "\n",
       "                                      country status item type  application  \\\n",
       "id                                                                            \n",
       "EC06F063-9DF0-440C-8764-0B0C05A4F6AE    28.00    Won         W        10.00   \n",
       "E140FF1B-2407-4C02-A0DD-780A093B1158    30.00    Won        WI        28.00   \n",
       "F8D507A0-9C62-4EFE-831E-33E1DA53BB50    32.00    Won         S        59.00   \n",
       "FE372230-29B1-4A29-BB73-CB9D3078C286    25.00    Won         W        41.00   \n",
       "E1B47219-42C8-411D-AE46-AD5256DC4757    30.00  Draft         W        41.00   \n",
       "\n",
       "                                      thickness   width  \\\n",
       "id                                                        \n",
       "EC06F063-9DF0-440C-8764-0B0C05A4F6AE       2.00 1500.00   \n",
       "E140FF1B-2407-4C02-A0DD-780A093B1158       0.38  952.00   \n",
       "F8D507A0-9C62-4EFE-831E-33E1DA53BB50       2.30 1317.00   \n",
       "FE372230-29B1-4A29-BB73-CB9D3078C286       1.50 1265.00   \n",
       "E1B47219-42C8-411D-AE46-AD5256DC4757       0.38 1125.00   \n",
       "\n",
       "                                                 material_ref   product_ref  \\\n",
       "id                                                                            \n",
       "EC06F063-9DF0-440C-8764-0B0C05A4F6AE              DEQ1 S460MC 1670798778.00   \n",
       "E140FF1B-2407-4C02-A0DD-780A093B1158                 S0380700     628377.00   \n",
       "F8D507A0-9C62-4EFE-831E-33E1DA53BB50  DX51D+ZM310MAO 2.3X1317 1668701718.00   \n",
       "FE372230-29B1-4A29-BB73-CB9D3078C286                   102325 1668701718.00   \n",
       "E1B47219-42C8-411D-AE46-AD5256DC4757        NBW_L+_A_1125_0.4     611993.00   \n",
       "\n",
       "                                     delivery date  selling_price  \n",
       "id                                                                 \n",
       "EC06F063-9DF0-440C-8764-0B0C05A4F6AE    2021-07-01         854.00  \n",
       "E140FF1B-2407-4C02-A0DD-780A093B1158    2021-01-01         644.33  \n",
       "F8D507A0-9C62-4EFE-831E-33E1DA53BB50    2021-01-01         768.00  \n",
       "FE372230-29B1-4A29-BB73-CB9D3078C286    2021-04-01         983.00  \n",
       "E1B47219-42C8-411D-AE46-AD5256DC4757    2021-07-01          18.00  "
      ]
     },
     "execution_count": 45,
     "metadata": {},
     "output_type": "execute_result"
    }
   ],
   "source": [
    "df1.head()"
   ]
  },
  {
   "cell_type": "code",
   "execution_count": 46,
   "id": "60103642",
   "metadata": {},
   "outputs": [
    {
     "data": {
      "text/plain": [
       "Won                110055\n",
       "Lost                33529\n",
       "Not lost for AM     18679\n",
       "Revised              4075\n",
       "To be approved       3908\n",
       "Draft                3073\n",
       "Offered                53\n",
       "Offerable              10\n",
       "Wonderful               1\n",
       "Name: status, dtype: int64"
      ]
     },
     "execution_count": 46,
     "metadata": {},
     "output_type": "execute_result"
    }
   ],
   "source": [
    "df1['status'].value_counts()"
   ]
  },
  {
   "cell_type": "code",
   "execution_count": 47,
   "id": "901e182d",
   "metadata": {},
   "outputs": [],
   "source": [
    "# df1[df1['status']==\"Draft\"]"
   ]
  },
  {
   "cell_type": "code",
   "execution_count": 48,
   "id": "8edfb9f3",
   "metadata": {},
   "outputs": [
    {
     "data": {
      "text/plain": [
       "6.00    109084\n",
       "0.00     33293\n",
       "1.00     18367\n",
       "4.00      4006\n",
       "5.00      3837\n",
       "3.00        53\n",
       "2.00        10\n",
       "7.00         1\n",
       "Name: status, dtype: int64"
      ]
     },
     "execution_count": 48,
     "metadata": {},
     "output_type": "execute_result"
    }
   ],
   "source": [
    "df2['status'].value_counts()"
   ]
  },
  {
   "cell_type": "code",
   "execution_count": 49,
   "id": "ca383831",
   "metadata": {},
   "outputs": [],
   "source": [
    "item_type=\"SLAWR\""
   ]
  },
  {
   "cell_type": "code",
   "execution_count": 50,
   "id": "d3290cbc",
   "metadata": {},
   "outputs": [
    {
     "ename": "NameError",
     "evalue": "name 'status' is not defined",
     "output_type": "error",
     "traceback": [
      "\u001b[1;31m---------------------------------------------------------------------------\u001b[0m",
      "\u001b[1;31mNameError\u001b[0m                                 Traceback (most recent call last)",
      "Cell \u001b[1;32mIn[50], line 3\u001b[0m\n\u001b[0;32m      1\u001b[0m lis\u001b[38;5;241m=\u001b[39m[]\n\u001b[0;32m      2\u001b[0m a,b,c,d,e,f,g,h\u001b[38;5;241m=\u001b[39m\u001b[38;5;241m6.00\u001b[39m,\u001b[38;5;241m0.00\u001b[39m,\u001b[38;5;241m1.00\u001b[39m,\u001b[38;5;241m4.00\u001b[39m,\u001b[38;5;241m5.00\u001b[39m,\u001b[38;5;241m3.00\u001b[39m,\u001b[38;5;241m2.00\u001b[39m,\u001b[38;5;241m7.00\u001b[39m\n\u001b[1;32m----> 3\u001b[0m \u001b[38;5;28;01mif\u001b[39;00m status\u001b[38;5;241m==\u001b[39m\u001b[38;5;124m\"\u001b[39m\u001b[38;5;124mWon\u001b[39m\u001b[38;5;124m\"\u001b[39m:\n\u001b[0;32m      4\u001b[0m     lis\u001b[38;5;241m.\u001b[39mappend(a)\n\u001b[0;32m      5\u001b[0m \u001b[38;5;28;01melif\u001b[39;00m status\u001b[38;5;241m==\u001b[39m\u001b[38;5;124m\"\u001b[39m\u001b[38;5;124mLost\u001b[39m\u001b[38;5;124m\"\u001b[39m:\n",
      "\u001b[1;31mNameError\u001b[0m: name 'status' is not defined"
     ]
    }
   ],
   "source": [
    "lis=[]\n",
    "a,b,c,d,e,f,g,h=6.00,0.00,1.00,4.00,5.00,3.00,2.00,7.00\n",
    "if status==\"Won\":\n",
    "    lis.append(a)\n",
    "elif status==\"Lost\":\n",
    "    lis.append(b)\n",
    "elif status==\"Not lost for AM\":\n",
    "    lis.append(c)\n",
    "elif status==\"Revised\":\n",
    "    lis.append(d)\n",
    "elif status==\"To be approved\":\n",
    "    lis.append(e)\n",
    "elif status==\"Offered\":\n",
    "    lis.append(f)\n",
    "elif status==\"Offerable\":\n",
    "    lis.append(g)\n",
    "elif status==\"Wonderful\":\n",
    "    lis.append(h)"
   ]
  },
  {
   "cell_type": "code",
   "execution_count": null,
   "id": "c9fea737",
   "metadata": {},
   "outputs": [],
   "source": [
    "lis=[]\n",
    "a,b,c,d,e,f,g=5.00,3.00,2.00,1.00,6.00,0.00,4.00\n",
    "if item_type==\"W\":\n",
    "    lis.append(a)\n",
    "elif item_type==\"S\":\n",
    "    lis.append(b)\n",
    "elif item_type==\"PL\":\n",
    "    lis.append(c)\n",
    "elif item_type==\"Others\":\n",
    "    lis.append(d)\n",
    "elif item_type==\"WL\":\n",
    "    lis.append(e)\n",
    "elif item_type==\"IPL\":\n",
    "    lis.append(f)\n",
    "elif item_type==\"SLAWR\":\n",
    "    lis.append(g)\n"
   ]
  },
  {
   "cell_type": "code",
   "execution_count": null,
   "id": "25c50a17",
   "metadata": {},
   "outputs": [],
   "source": [
    "109085+33294   "
   ]
  },
  {
   "cell_type": "code",
   "execution_count": 51,
   "id": "b315506e",
   "metadata": {},
   "outputs": [],
   "source": [
    "# new=[5.00,3.00]\n",
    "# for i in new:\n",
    "#     d=df2[(df2['item type']==i)]\n",
    "    \n",
    "         "
   ]
  },
  {
   "cell_type": "code",
   "execution_count": 98,
   "id": "bd6d3136",
   "metadata": {},
   "outputs": [
    {
     "data": {
      "text/html": [
       "<div>\n",
       "<style scoped>\n",
       "    .dataframe tbody tr th:only-of-type {\n",
       "        vertical-align: middle;\n",
       "    }\n",
       "\n",
       "    .dataframe tbody tr th {\n",
       "        vertical-align: top;\n",
       "    }\n",
       "\n",
       "    .dataframe thead th {\n",
       "        text-align: right;\n",
       "    }\n",
       "</style>\n",
       "<table border=\"1\" class=\"dataframe\">\n",
       "  <thead>\n",
       "    <tr style=\"text-align: right;\">\n",
       "      <th></th>\n",
       "      <th>item_date</th>\n",
       "      <th>quantity tons</th>\n",
       "      <th>customer</th>\n",
       "      <th>country</th>\n",
       "      <th>status</th>\n",
       "      <th>item type</th>\n",
       "      <th>application</th>\n",
       "      <th>thickness</th>\n",
       "      <th>width</th>\n",
       "      <th>material_ref</th>\n",
       "      <th>product_ref</th>\n",
       "      <th>delivery date</th>\n",
       "      <th>selling_price</th>\n",
       "    </tr>\n",
       "    <tr>\n",
       "      <th>id</th>\n",
       "      <th></th>\n",
       "      <th></th>\n",
       "      <th></th>\n",
       "      <th></th>\n",
       "      <th></th>\n",
       "      <th></th>\n",
       "      <th></th>\n",
       "      <th></th>\n",
       "      <th></th>\n",
       "      <th></th>\n",
       "      <th></th>\n",
       "      <th></th>\n",
       "      <th></th>\n",
       "    </tr>\n",
       "  </thead>\n",
       "  <tbody>\n",
       "    <tr>\n",
       "      <th>EC06F063-9DF0-440C-8764-0B0C05A4F6AE</th>\n",
       "      <td>2021-04-01</td>\n",
       "      <td>54.15</td>\n",
       "      <td>30156308.00</td>\n",
       "      <td>28.00</td>\n",
       "      <td>Won</td>\n",
       "      <td>W</td>\n",
       "      <td>10.00</td>\n",
       "      <td>2.00</td>\n",
       "      <td>1500.00</td>\n",
       "      <td>DEQ1 S460MC</td>\n",
       "      <td>1670798778.00</td>\n",
       "      <td>2021-07-01</td>\n",
       "      <td>854.00</td>\n",
       "    </tr>\n",
       "    <tr>\n",
       "      <th>E140FF1B-2407-4C02-A0DD-780A093B1158</th>\n",
       "      <td>2021-04-01</td>\n",
       "      <td>386.13</td>\n",
       "      <td>30153963.00</td>\n",
       "      <td>30.00</td>\n",
       "      <td>Won</td>\n",
       "      <td>WI</td>\n",
       "      <td>28.00</td>\n",
       "      <td>0.38</td>\n",
       "      <td>952.00</td>\n",
       "      <td>S0380700</td>\n",
       "      <td>628377.00</td>\n",
       "      <td>2021-01-01</td>\n",
       "      <td>644.33</td>\n",
       "    </tr>\n",
       "    <tr>\n",
       "      <th>F8D507A0-9C62-4EFE-831E-33E1DA53BB50</th>\n",
       "      <td>2021-04-01</td>\n",
       "      <td>202.41</td>\n",
       "      <td>30349574.00</td>\n",
       "      <td>32.00</td>\n",
       "      <td>Won</td>\n",
       "      <td>S</td>\n",
       "      <td>59.00</td>\n",
       "      <td>2.30</td>\n",
       "      <td>1317.00</td>\n",
       "      <td>DX51D+ZM310MAO 2.3X1317</td>\n",
       "      <td>1668701718.00</td>\n",
       "      <td>2021-01-01</td>\n",
       "      <td>768.00</td>\n",
       "    </tr>\n",
       "    <tr>\n",
       "      <th>FE372230-29B1-4A29-BB73-CB9D3078C286</th>\n",
       "      <td>2021-04-01</td>\n",
       "      <td>225.79</td>\n",
       "      <td>30202938.00</td>\n",
       "      <td>25.00</td>\n",
       "      <td>Won</td>\n",
       "      <td>W</td>\n",
       "      <td>41.00</td>\n",
       "      <td>1.50</td>\n",
       "      <td>1265.00</td>\n",
       "      <td>102325</td>\n",
       "      <td>1668701718.00</td>\n",
       "      <td>2021-04-01</td>\n",
       "      <td>983.00</td>\n",
       "    </tr>\n",
       "    <tr>\n",
       "      <th>AA3F18A2-A7D6-43DE-8644-F0632AE2CB68</th>\n",
       "      <td>2021-04-01</td>\n",
       "      <td>113.39</td>\n",
       "      <td>30342192.00</td>\n",
       "      <td>32.00</td>\n",
       "      <td>Won</td>\n",
       "      <td>W</td>\n",
       "      <td>41.00</td>\n",
       "      <td>0.68</td>\n",
       "      <td>1220.00</td>\n",
       "      <td>1000944</td>\n",
       "      <td>611993.00</td>\n",
       "      <td>2021-01-01</td>\n",
       "      <td>931.00</td>\n",
       "    </tr>\n",
       "    <tr>\n",
       "      <th>...</th>\n",
       "      <td>...</td>\n",
       "      <td>...</td>\n",
       "      <td>...</td>\n",
       "      <td>...</td>\n",
       "      <td>...</td>\n",
       "      <td>...</td>\n",
       "      <td>...</td>\n",
       "      <td>...</td>\n",
       "      <td>...</td>\n",
       "      <td>...</td>\n",
       "      <td>...</td>\n",
       "      <td>...</td>\n",
       "      <td>...</td>\n",
       "    </tr>\n",
       "    <tr>\n",
       "      <th>0B812591-B501-4F34-859A-B06381FAEB44</th>\n",
       "      <td>2020-07-02</td>\n",
       "      <td>106.78</td>\n",
       "      <td>30200854.00</td>\n",
       "      <td>25.00</td>\n",
       "      <td>Won</td>\n",
       "      <td>W</td>\n",
       "      <td>41.00</td>\n",
       "      <td>0.96</td>\n",
       "      <td>1240.00</td>\n",
       "      <td>1000222</td>\n",
       "      <td>164141591.00</td>\n",
       "      <td>2020-07-01</td>\n",
       "      <td>602.00</td>\n",
       "    </tr>\n",
       "    <tr>\n",
       "      <th>DE633116-D1DF-4846-982E-55EFC3658A76</th>\n",
       "      <td>2020-07-02</td>\n",
       "      <td>102.48</td>\n",
       "      <td>30200854.00</td>\n",
       "      <td>25.00</td>\n",
       "      <td>Won</td>\n",
       "      <td>W</td>\n",
       "      <td>41.00</td>\n",
       "      <td>0.96</td>\n",
       "      <td>1220.00</td>\n",
       "      <td>1000777</td>\n",
       "      <td>164141591.00</td>\n",
       "      <td>2020-07-01</td>\n",
       "      <td>591.00</td>\n",
       "    </tr>\n",
       "    <tr>\n",
       "      <th>A48374B1-E6DB-45F2-889A-1F9C27C099EB</th>\n",
       "      <td>2020-07-02</td>\n",
       "      <td>208.09</td>\n",
       "      <td>30200854.00</td>\n",
       "      <td>25.00</td>\n",
       "      <td>Won</td>\n",
       "      <td>W</td>\n",
       "      <td>41.00</td>\n",
       "      <td>0.95</td>\n",
       "      <td>1500.00</td>\n",
       "      <td>1000227</td>\n",
       "      <td>164141591.00</td>\n",
       "      <td>2020-07-01</td>\n",
       "      <td>589.00</td>\n",
       "    </tr>\n",
       "    <tr>\n",
       "      <th>91643238-5C7B-4237-9A5F-63AE3D35F320</th>\n",
       "      <td>2020-07-02</td>\n",
       "      <td>4.24</td>\n",
       "      <td>30200854.00</td>\n",
       "      <td>25.00</td>\n",
       "      <td>Won</td>\n",
       "      <td>W</td>\n",
       "      <td>41.00</td>\n",
       "      <td>0.71</td>\n",
       "      <td>1250.00</td>\n",
       "      <td>1004216</td>\n",
       "      <td>164141591.00</td>\n",
       "      <td>2020-07-01</td>\n",
       "      <td>619.00</td>\n",
       "    </tr>\n",
       "    <tr>\n",
       "      <th>AD0CA853-AE3C-4B2F-9FBB-8B0B965F84BC</th>\n",
       "      <td>2020-07-02</td>\n",
       "      <td>406.69</td>\n",
       "      <td>30200854.00</td>\n",
       "      <td>25.00</td>\n",
       "      <td>Won</td>\n",
       "      <td>W</td>\n",
       "      <td>41.00</td>\n",
       "      <td>0.71</td>\n",
       "      <td>1240.00</td>\n",
       "      <td>1005439</td>\n",
       "      <td>164141591.00</td>\n",
       "      <td>2020-07-01</td>\n",
       "      <td>607.00</td>\n",
       "    </tr>\n",
       "  </tbody>\n",
       "</table>\n",
       "<p>143584 rows × 13 columns</p>\n",
       "</div>"
      ],
      "text/plain": [
       "                                      item_date  quantity tons    customer  \\\n",
       "id                                                                           \n",
       "EC06F063-9DF0-440C-8764-0B0C05A4F6AE 2021-04-01          54.15 30156308.00   \n",
       "E140FF1B-2407-4C02-A0DD-780A093B1158 2021-04-01         386.13 30153963.00   \n",
       "F8D507A0-9C62-4EFE-831E-33E1DA53BB50 2021-04-01         202.41 30349574.00   \n",
       "FE372230-29B1-4A29-BB73-CB9D3078C286 2021-04-01         225.79 30202938.00   \n",
       "AA3F18A2-A7D6-43DE-8644-F0632AE2CB68 2021-04-01         113.39 30342192.00   \n",
       "...                                         ...            ...         ...   \n",
       "0B812591-B501-4F34-859A-B06381FAEB44 2020-07-02         106.78 30200854.00   \n",
       "DE633116-D1DF-4846-982E-55EFC3658A76 2020-07-02         102.48 30200854.00   \n",
       "A48374B1-E6DB-45F2-889A-1F9C27C099EB 2020-07-02         208.09 30200854.00   \n",
       "91643238-5C7B-4237-9A5F-63AE3D35F320 2020-07-02           4.24 30200854.00   \n",
       "AD0CA853-AE3C-4B2F-9FBB-8B0B965F84BC 2020-07-02         406.69 30200854.00   \n",
       "\n",
       "                                      country status item type  application  \\\n",
       "id                                                                            \n",
       "EC06F063-9DF0-440C-8764-0B0C05A4F6AE    28.00    Won         W        10.00   \n",
       "E140FF1B-2407-4C02-A0DD-780A093B1158    30.00    Won        WI        28.00   \n",
       "F8D507A0-9C62-4EFE-831E-33E1DA53BB50    32.00    Won         S        59.00   \n",
       "FE372230-29B1-4A29-BB73-CB9D3078C286    25.00    Won         W        41.00   \n",
       "AA3F18A2-A7D6-43DE-8644-F0632AE2CB68    32.00    Won         W        41.00   \n",
       "...                                       ...    ...       ...          ...   \n",
       "0B812591-B501-4F34-859A-B06381FAEB44    25.00    Won         W        41.00   \n",
       "DE633116-D1DF-4846-982E-55EFC3658A76    25.00    Won         W        41.00   \n",
       "A48374B1-E6DB-45F2-889A-1F9C27C099EB    25.00    Won         W        41.00   \n",
       "91643238-5C7B-4237-9A5F-63AE3D35F320    25.00    Won         W        41.00   \n",
       "AD0CA853-AE3C-4B2F-9FBB-8B0B965F84BC    25.00    Won         W        41.00   \n",
       "\n",
       "                                      thickness   width  \\\n",
       "id                                                        \n",
       "EC06F063-9DF0-440C-8764-0B0C05A4F6AE       2.00 1500.00   \n",
       "E140FF1B-2407-4C02-A0DD-780A093B1158       0.38  952.00   \n",
       "F8D507A0-9C62-4EFE-831E-33E1DA53BB50       2.30 1317.00   \n",
       "FE372230-29B1-4A29-BB73-CB9D3078C286       1.50 1265.00   \n",
       "AA3F18A2-A7D6-43DE-8644-F0632AE2CB68       0.68 1220.00   \n",
       "...                                         ...     ...   \n",
       "0B812591-B501-4F34-859A-B06381FAEB44       0.96 1240.00   \n",
       "DE633116-D1DF-4846-982E-55EFC3658A76       0.96 1220.00   \n",
       "A48374B1-E6DB-45F2-889A-1F9C27C099EB       0.95 1500.00   \n",
       "91643238-5C7B-4237-9A5F-63AE3D35F320       0.71 1250.00   \n",
       "AD0CA853-AE3C-4B2F-9FBB-8B0B965F84BC       0.71 1240.00   \n",
       "\n",
       "                                                 material_ref   product_ref  \\\n",
       "id                                                                            \n",
       "EC06F063-9DF0-440C-8764-0B0C05A4F6AE              DEQ1 S460MC 1670798778.00   \n",
       "E140FF1B-2407-4C02-A0DD-780A093B1158                 S0380700     628377.00   \n",
       "F8D507A0-9C62-4EFE-831E-33E1DA53BB50  DX51D+ZM310MAO 2.3X1317 1668701718.00   \n",
       "FE372230-29B1-4A29-BB73-CB9D3078C286                   102325 1668701718.00   \n",
       "AA3F18A2-A7D6-43DE-8644-F0632AE2CB68                  1000944     611993.00   \n",
       "...                                                       ...           ...   \n",
       "0B812591-B501-4F34-859A-B06381FAEB44                  1000222  164141591.00   \n",
       "DE633116-D1DF-4846-982E-55EFC3658A76                  1000777  164141591.00   \n",
       "A48374B1-E6DB-45F2-889A-1F9C27C099EB                  1000227  164141591.00   \n",
       "91643238-5C7B-4237-9A5F-63AE3D35F320                  1004216  164141591.00   \n",
       "AD0CA853-AE3C-4B2F-9FBB-8B0B965F84BC                  1005439  164141591.00   \n",
       "\n",
       "                                     delivery date  selling_price  \n",
       "id                                                                 \n",
       "EC06F063-9DF0-440C-8764-0B0C05A4F6AE    2021-07-01         854.00  \n",
       "E140FF1B-2407-4C02-A0DD-780A093B1158    2021-01-01         644.33  \n",
       "F8D507A0-9C62-4EFE-831E-33E1DA53BB50    2021-01-01         768.00  \n",
       "FE372230-29B1-4A29-BB73-CB9D3078C286    2021-04-01         983.00  \n",
       "AA3F18A2-A7D6-43DE-8644-F0632AE2CB68    2021-01-01         931.00  \n",
       "...                                            ...            ...  \n",
       "0B812591-B501-4F34-859A-B06381FAEB44    2020-07-01         602.00  \n",
       "DE633116-D1DF-4846-982E-55EFC3658A76    2020-07-01         591.00  \n",
       "A48374B1-E6DB-45F2-889A-1F9C27C099EB    2020-07-01         589.00  \n",
       "91643238-5C7B-4237-9A5F-63AE3D35F320    2020-07-01         619.00  \n",
       "AD0CA853-AE3C-4B2F-9FBB-8B0B965F84BC    2020-07-01         607.00  \n",
       "\n",
       "[143584 rows x 13 columns]"
      ]
     },
     "execution_count": 98,
     "metadata": {},
     "output_type": "execute_result"
    }
   ],
   "source": [
    "df4=df1[(df1['status']=='Won')|(df1['status']==\"Lost\")]\n",
    "df4"
   ]
  },
  {
   "cell_type": "code",
   "execution_count": 52,
   "id": "bd527ae2",
   "metadata": {},
   "outputs": [
    {
     "data": {
      "text/html": [
       "<div>\n",
       "<style scoped>\n",
       "    .dataframe tbody tr th:only-of-type {\n",
       "        vertical-align: middle;\n",
       "    }\n",
       "\n",
       "    .dataframe tbody tr th {\n",
       "        vertical-align: top;\n",
       "    }\n",
       "\n",
       "    .dataframe thead th {\n",
       "        text-align: right;\n",
       "    }\n",
       "</style>\n",
       "<table border=\"1\" class=\"dataframe\">\n",
       "  <thead>\n",
       "    <tr style=\"text-align: right;\">\n",
       "      <th></th>\n",
       "      <th>item_date</th>\n",
       "      <th>quantity tons</th>\n",
       "      <th>customer</th>\n",
       "      <th>country</th>\n",
       "      <th>status</th>\n",
       "      <th>item type</th>\n",
       "      <th>application</th>\n",
       "      <th>thickness</th>\n",
       "      <th>width</th>\n",
       "      <th>material_ref</th>\n",
       "      <th>product_ref</th>\n",
       "      <th>delivery date</th>\n",
       "      <th>selling_price</th>\n",
       "    </tr>\n",
       "    <tr>\n",
       "      <th>id</th>\n",
       "      <th></th>\n",
       "      <th></th>\n",
       "      <th></th>\n",
       "      <th></th>\n",
       "      <th></th>\n",
       "      <th></th>\n",
       "      <th></th>\n",
       "      <th></th>\n",
       "      <th></th>\n",
       "      <th></th>\n",
       "      <th></th>\n",
       "      <th></th>\n",
       "      <th></th>\n",
       "    </tr>\n",
       "  </thead>\n",
       "  <tbody>\n",
       "    <tr>\n",
       "      <th>EC06F063-9DF0-440C-8764-0B0C05A4F6AE</th>\n",
       "      <td>2021-04-01</td>\n",
       "      <td>54.15</td>\n",
       "      <td>30156308.00</td>\n",
       "      <td>28.00</td>\n",
       "      <td>6.00</td>\n",
       "      <td>5.00</td>\n",
       "      <td>10.00</td>\n",
       "      <td>2.00</td>\n",
       "      <td>1500.00</td>\n",
       "      <td>9940.00</td>\n",
       "      <td>1670798778.00</td>\n",
       "      <td>2021-07-01</td>\n",
       "      <td>854.00</td>\n",
       "    </tr>\n",
       "    <tr>\n",
       "      <th>E140FF1B-2407-4C02-A0DD-780A093B1158</th>\n",
       "      <td>2021-04-01</td>\n",
       "      <td>386.13</td>\n",
       "      <td>30153963.00</td>\n",
       "      <td>30.00</td>\n",
       "      <td>6.00</td>\n",
       "      <td>6.00</td>\n",
       "      <td>28.00</td>\n",
       "      <td>0.38</td>\n",
       "      <td>952.00</td>\n",
       "      <td>14120.00</td>\n",
       "      <td>628377.00</td>\n",
       "      <td>2021-01-01</td>\n",
       "      <td>644.33</td>\n",
       "    </tr>\n",
       "    <tr>\n",
       "      <th>F8D507A0-9C62-4EFE-831E-33E1DA53BB50</th>\n",
       "      <td>2021-04-01</td>\n",
       "      <td>202.41</td>\n",
       "      <td>30349574.00</td>\n",
       "      <td>32.00</td>\n",
       "      <td>6.00</td>\n",
       "      <td>3.00</td>\n",
       "      <td>59.00</td>\n",
       "      <td>2.30</td>\n",
       "      <td>1317.00</td>\n",
       "      <td>10214.00</td>\n",
       "      <td>1668701718.00</td>\n",
       "      <td>2021-01-01</td>\n",
       "      <td>768.00</td>\n",
       "    </tr>\n",
       "    <tr>\n",
       "      <th>FE372230-29B1-4A29-BB73-CB9D3078C286</th>\n",
       "      <td>2021-04-01</td>\n",
       "      <td>225.79</td>\n",
       "      <td>30202938.00</td>\n",
       "      <td>25.00</td>\n",
       "      <td>6.00</td>\n",
       "      <td>5.00</td>\n",
       "      <td>41.00</td>\n",
       "      <td>1.50</td>\n",
       "      <td>1265.00</td>\n",
       "      <td>1707.00</td>\n",
       "      <td>1668701718.00</td>\n",
       "      <td>2021-04-01</td>\n",
       "      <td>983.00</td>\n",
       "    </tr>\n",
       "    <tr>\n",
       "      <th>AA3F18A2-A7D6-43DE-8644-F0632AE2CB68</th>\n",
       "      <td>2021-04-01</td>\n",
       "      <td>113.39</td>\n",
       "      <td>30342192.00</td>\n",
       "      <td>32.00</td>\n",
       "      <td>6.00</td>\n",
       "      <td>5.00</td>\n",
       "      <td>41.00</td>\n",
       "      <td>0.68</td>\n",
       "      <td>1220.00</td>\n",
       "      <td>1015.00</td>\n",
       "      <td>611993.00</td>\n",
       "      <td>2021-01-01</td>\n",
       "      <td>931.00</td>\n",
       "    </tr>\n",
       "    <tr>\n",
       "      <th>...</th>\n",
       "      <td>...</td>\n",
       "      <td>...</td>\n",
       "      <td>...</td>\n",
       "      <td>...</td>\n",
       "      <td>...</td>\n",
       "      <td>...</td>\n",
       "      <td>...</td>\n",
       "      <td>...</td>\n",
       "      <td>...</td>\n",
       "      <td>...</td>\n",
       "      <td>...</td>\n",
       "      <td>...</td>\n",
       "      <td>...</td>\n",
       "    </tr>\n",
       "    <tr>\n",
       "      <th>0B812591-B501-4F34-859A-B06381FAEB44</th>\n",
       "      <td>2020-07-02</td>\n",
       "      <td>106.78</td>\n",
       "      <td>30200854.00</td>\n",
       "      <td>25.00</td>\n",
       "      <td>6.00</td>\n",
       "      <td>5.00</td>\n",
       "      <td>41.00</td>\n",
       "      <td>0.96</td>\n",
       "      <td>1240.00</td>\n",
       "      <td>816.00</td>\n",
       "      <td>164141591.00</td>\n",
       "      <td>2020-07-01</td>\n",
       "      <td>602.00</td>\n",
       "    </tr>\n",
       "    <tr>\n",
       "      <th>DE633116-D1DF-4846-982E-55EFC3658A76</th>\n",
       "      <td>2020-07-02</td>\n",
       "      <td>102.48</td>\n",
       "      <td>30200854.00</td>\n",
       "      <td>25.00</td>\n",
       "      <td>6.00</td>\n",
       "      <td>5.00</td>\n",
       "      <td>41.00</td>\n",
       "      <td>0.96</td>\n",
       "      <td>1220.00</td>\n",
       "      <td>997.00</td>\n",
       "      <td>164141591.00</td>\n",
       "      <td>2020-07-01</td>\n",
       "      <td>591.00</td>\n",
       "    </tr>\n",
       "    <tr>\n",
       "      <th>A48374B1-E6DB-45F2-889A-1F9C27C099EB</th>\n",
       "      <td>2020-07-02</td>\n",
       "      <td>208.09</td>\n",
       "      <td>30200854.00</td>\n",
       "      <td>25.00</td>\n",
       "      <td>6.00</td>\n",
       "      <td>5.00</td>\n",
       "      <td>41.00</td>\n",
       "      <td>0.95</td>\n",
       "      <td>1500.00</td>\n",
       "      <td>829.00</td>\n",
       "      <td>164141591.00</td>\n",
       "      <td>2020-07-01</td>\n",
       "      <td>589.00</td>\n",
       "    </tr>\n",
       "    <tr>\n",
       "      <th>91643238-5C7B-4237-9A5F-63AE3D35F320</th>\n",
       "      <td>2020-07-02</td>\n",
       "      <td>4.24</td>\n",
       "      <td>30200854.00</td>\n",
       "      <td>25.00</td>\n",
       "      <td>6.00</td>\n",
       "      <td>5.00</td>\n",
       "      <td>41.00</td>\n",
       "      <td>0.71</td>\n",
       "      <td>1250.00</td>\n",
       "      <td>1217.00</td>\n",
       "      <td>164141591.00</td>\n",
       "      <td>2020-07-01</td>\n",
       "      <td>619.00</td>\n",
       "    </tr>\n",
       "    <tr>\n",
       "      <th>AD0CA853-AE3C-4B2F-9FBB-8B0B965F84BC</th>\n",
       "      <td>2020-07-02</td>\n",
       "      <td>406.69</td>\n",
       "      <td>30200854.00</td>\n",
       "      <td>25.00</td>\n",
       "      <td>6.00</td>\n",
       "      <td>5.00</td>\n",
       "      <td>41.00</td>\n",
       "      <td>0.71</td>\n",
       "      <td>1240.00</td>\n",
       "      <td>1276.00</td>\n",
       "      <td>164141591.00</td>\n",
       "      <td>2020-07-01</td>\n",
       "      <td>607.00</td>\n",
       "    </tr>\n",
       "  </tbody>\n",
       "</table>\n",
       "<p>142377 rows × 13 columns</p>\n",
       "</div>"
      ],
      "text/plain": [
       "                                      item_date  quantity tons    customer  \\\n",
       "id                                                                           \n",
       "EC06F063-9DF0-440C-8764-0B0C05A4F6AE 2021-04-01          54.15 30156308.00   \n",
       "E140FF1B-2407-4C02-A0DD-780A093B1158 2021-04-01         386.13 30153963.00   \n",
       "F8D507A0-9C62-4EFE-831E-33E1DA53BB50 2021-04-01         202.41 30349574.00   \n",
       "FE372230-29B1-4A29-BB73-CB9D3078C286 2021-04-01         225.79 30202938.00   \n",
       "AA3F18A2-A7D6-43DE-8644-F0632AE2CB68 2021-04-01         113.39 30342192.00   \n",
       "...                                         ...            ...         ...   \n",
       "0B812591-B501-4F34-859A-B06381FAEB44 2020-07-02         106.78 30200854.00   \n",
       "DE633116-D1DF-4846-982E-55EFC3658A76 2020-07-02         102.48 30200854.00   \n",
       "A48374B1-E6DB-45F2-889A-1F9C27C099EB 2020-07-02         208.09 30200854.00   \n",
       "91643238-5C7B-4237-9A5F-63AE3D35F320 2020-07-02           4.24 30200854.00   \n",
       "AD0CA853-AE3C-4B2F-9FBB-8B0B965F84BC 2020-07-02         406.69 30200854.00   \n",
       "\n",
       "                                      country  status  item type  application  \\\n",
       "id                                                                              \n",
       "EC06F063-9DF0-440C-8764-0B0C05A4F6AE    28.00    6.00       5.00        10.00   \n",
       "E140FF1B-2407-4C02-A0DD-780A093B1158    30.00    6.00       6.00        28.00   \n",
       "F8D507A0-9C62-4EFE-831E-33E1DA53BB50    32.00    6.00       3.00        59.00   \n",
       "FE372230-29B1-4A29-BB73-CB9D3078C286    25.00    6.00       5.00        41.00   \n",
       "AA3F18A2-A7D6-43DE-8644-F0632AE2CB68    32.00    6.00       5.00        41.00   \n",
       "...                                       ...     ...        ...          ...   \n",
       "0B812591-B501-4F34-859A-B06381FAEB44    25.00    6.00       5.00        41.00   \n",
       "DE633116-D1DF-4846-982E-55EFC3658A76    25.00    6.00       5.00        41.00   \n",
       "A48374B1-E6DB-45F2-889A-1F9C27C099EB    25.00    6.00       5.00        41.00   \n",
       "91643238-5C7B-4237-9A5F-63AE3D35F320    25.00    6.00       5.00        41.00   \n",
       "AD0CA853-AE3C-4B2F-9FBB-8B0B965F84BC    25.00    6.00       5.00        41.00   \n",
       "\n",
       "                                      thickness   width  material_ref  \\\n",
       "id                                                                      \n",
       "EC06F063-9DF0-440C-8764-0B0C05A4F6AE       2.00 1500.00       9940.00   \n",
       "E140FF1B-2407-4C02-A0DD-780A093B1158       0.38  952.00      14120.00   \n",
       "F8D507A0-9C62-4EFE-831E-33E1DA53BB50       2.30 1317.00      10214.00   \n",
       "FE372230-29B1-4A29-BB73-CB9D3078C286       1.50 1265.00       1707.00   \n",
       "AA3F18A2-A7D6-43DE-8644-F0632AE2CB68       0.68 1220.00       1015.00   \n",
       "...                                         ...     ...           ...   \n",
       "0B812591-B501-4F34-859A-B06381FAEB44       0.96 1240.00        816.00   \n",
       "DE633116-D1DF-4846-982E-55EFC3658A76       0.96 1220.00        997.00   \n",
       "A48374B1-E6DB-45F2-889A-1F9C27C099EB       0.95 1500.00        829.00   \n",
       "91643238-5C7B-4237-9A5F-63AE3D35F320       0.71 1250.00       1217.00   \n",
       "AD0CA853-AE3C-4B2F-9FBB-8B0B965F84BC       0.71 1240.00       1276.00   \n",
       "\n",
       "                                       product_ref delivery date  \\\n",
       "id                                                                 \n",
       "EC06F063-9DF0-440C-8764-0B0C05A4F6AE 1670798778.00    2021-07-01   \n",
       "E140FF1B-2407-4C02-A0DD-780A093B1158     628377.00    2021-01-01   \n",
       "F8D507A0-9C62-4EFE-831E-33E1DA53BB50 1668701718.00    2021-01-01   \n",
       "FE372230-29B1-4A29-BB73-CB9D3078C286 1668701718.00    2021-04-01   \n",
       "AA3F18A2-A7D6-43DE-8644-F0632AE2CB68     611993.00    2021-01-01   \n",
       "...                                            ...           ...   \n",
       "0B812591-B501-4F34-859A-B06381FAEB44  164141591.00    2020-07-01   \n",
       "DE633116-D1DF-4846-982E-55EFC3658A76  164141591.00    2020-07-01   \n",
       "A48374B1-E6DB-45F2-889A-1F9C27C099EB  164141591.00    2020-07-01   \n",
       "91643238-5C7B-4237-9A5F-63AE3D35F320  164141591.00    2020-07-01   \n",
       "AD0CA853-AE3C-4B2F-9FBB-8B0B965F84BC  164141591.00    2020-07-01   \n",
       "\n",
       "                                      selling_price  \n",
       "id                                                   \n",
       "EC06F063-9DF0-440C-8764-0B0C05A4F6AE         854.00  \n",
       "E140FF1B-2407-4C02-A0DD-780A093B1158         644.33  \n",
       "F8D507A0-9C62-4EFE-831E-33E1DA53BB50         768.00  \n",
       "FE372230-29B1-4A29-BB73-CB9D3078C286         983.00  \n",
       "AA3F18A2-A7D6-43DE-8644-F0632AE2CB68         931.00  \n",
       "...                                             ...  \n",
       "0B812591-B501-4F34-859A-B06381FAEB44         602.00  \n",
       "DE633116-D1DF-4846-982E-55EFC3658A76         591.00  \n",
       "A48374B1-E6DB-45F2-889A-1F9C27C099EB         589.00  \n",
       "91643238-5C7B-4237-9A5F-63AE3D35F320         619.00  \n",
       "AD0CA853-AE3C-4B2F-9FBB-8B0B965F84BC         607.00  \n",
       "\n",
       "[142377 rows x 13 columns]"
      ]
     },
     "execution_count": 52,
     "metadata": {},
     "output_type": "execute_result"
    }
   ],
   "source": [
    "df3=df2[(df2['status']==6.00)|(df2['status']==0.00)]\n",
    "df3"
   ]
  },
  {
   "cell_type": "code",
   "execution_count": 53,
   "id": "fd35e3a6",
   "metadata": {},
   "outputs": [],
   "source": [
    "X=df3.drop(df3[['item_date','delivery date','material_ref','status']],axis=1)\n",
    "Y=df3['status']"
   ]
  },
  {
   "cell_type": "code",
   "execution_count": null,
   "id": "1cd85ef6",
   "metadata": {},
   "outputs": [],
   "source": []
  },
  {
   "cell_type": "markdown",
   "id": "10749062",
   "metadata": {},
   "source": [
    "# Train model"
   ]
  },
  {
   "cell_type": "code",
   "execution_count": 54,
   "id": "1a0c9fd5",
   "metadata": {},
   "outputs": [
    {
     "data": {
      "text/plain": [
       "((106782, 9), (35595, 9), (106782,), (35595,))"
      ]
     },
     "execution_count": 54,
     "metadata": {},
     "output_type": "execute_result"
    }
   ],
   "source": [
    "from sklearn.model_selection import train_test_split\n",
    "X_train,X_test,Y_train,Y_test = train_test_split(X,Y,test_size=0.25)\n",
    "# x_train,x_test,y_train,y_test = train_test_split(x,y,test_size=0.2,random_state=23)\n",
    "X_train.shape,X_test.shape,Y_train.shape,Y_test.shape"
   ]
  },
  {
   "cell_type": "code",
   "execution_count": null,
   "id": "0661ce42",
   "metadata": {},
   "outputs": [],
   "source": []
  },
  {
   "cell_type": "markdown",
   "id": "33c49891",
   "metadata": {},
   "source": [
    "# lazy predict in classifier"
   ]
  },
  {
   "cell_type": "code",
   "execution_count": 55,
   "id": "757c44da",
   "metadata": {},
   "outputs": [],
   "source": [
    "from lazypredict.Supervised import LazyClassifier\n"
   ]
  },
  {
   "cell_type": "code",
   "execution_count": null,
   "id": "304c5715",
   "metadata": {},
   "outputs": [],
   "source": [
    "# clf = LazyClassifier(verbose=0,ignore_warnings=True, custom_metric=None)\n",
    "# models,predictions = clf.fit(X_train, X_test, Y_train, Y_test)"
   ]
  },
  {
   "cell_type": "code",
   "execution_count": null,
   "id": "8969d6e7",
   "metadata": {},
   "outputs": [],
   "source": [
    "# models "
   ]
  },
  {
   "cell_type": "markdown",
   "id": "c7c5379d",
   "metadata": {},
   "source": [
    "# randomforest classifier"
   ]
  },
  {
   "cell_type": "code",
   "execution_count": 56,
   "id": "12f0d531",
   "metadata": {},
   "outputs": [],
   "source": [
    "from sklearn.ensemble import RandomForestClassifier"
   ]
  },
  {
   "cell_type": "code",
   "execution_count": 76,
   "id": "59c74c6c",
   "metadata": {},
   "outputs": [
    {
     "data": {
      "text/html": [
       "<style>#sk-container-id-2 {color: black;}#sk-container-id-2 pre{padding: 0;}#sk-container-id-2 div.sk-toggleable {background-color: white;}#sk-container-id-2 label.sk-toggleable__label {cursor: pointer;display: block;width: 100%;margin-bottom: 0;padding: 0.3em;box-sizing: border-box;text-align: center;}#sk-container-id-2 label.sk-toggleable__label-arrow:before {content: \"▸\";float: left;margin-right: 0.25em;color: #696969;}#sk-container-id-2 label.sk-toggleable__label-arrow:hover:before {color: black;}#sk-container-id-2 div.sk-estimator:hover label.sk-toggleable__label-arrow:before {color: black;}#sk-container-id-2 div.sk-toggleable__content {max-height: 0;max-width: 0;overflow: hidden;text-align: left;background-color: #f0f8ff;}#sk-container-id-2 div.sk-toggleable__content pre {margin: 0.2em;color: black;border-radius: 0.25em;background-color: #f0f8ff;}#sk-container-id-2 input.sk-toggleable__control:checked~div.sk-toggleable__content {max-height: 200px;max-width: 100%;overflow: auto;}#sk-container-id-2 input.sk-toggleable__control:checked~label.sk-toggleable__label-arrow:before {content: \"▾\";}#sk-container-id-2 div.sk-estimator input.sk-toggleable__control:checked~label.sk-toggleable__label {background-color: #d4ebff;}#sk-container-id-2 div.sk-label input.sk-toggleable__control:checked~label.sk-toggleable__label {background-color: #d4ebff;}#sk-container-id-2 input.sk-hidden--visually {border: 0;clip: rect(1px 1px 1px 1px);clip: rect(1px, 1px, 1px, 1px);height: 1px;margin: -1px;overflow: hidden;padding: 0;position: absolute;width: 1px;}#sk-container-id-2 div.sk-estimator {font-family: monospace;background-color: #f0f8ff;border: 1px dotted black;border-radius: 0.25em;box-sizing: border-box;margin-bottom: 0.5em;}#sk-container-id-2 div.sk-estimator:hover {background-color: #d4ebff;}#sk-container-id-2 div.sk-parallel-item::after {content: \"\";width: 100%;border-bottom: 1px solid gray;flex-grow: 1;}#sk-container-id-2 div.sk-label:hover label.sk-toggleable__label {background-color: #d4ebff;}#sk-container-id-2 div.sk-serial::before {content: \"\";position: absolute;border-left: 1px solid gray;box-sizing: border-box;top: 0;bottom: 0;left: 50%;z-index: 0;}#sk-container-id-2 div.sk-serial {display: flex;flex-direction: column;align-items: center;background-color: white;padding-right: 0.2em;padding-left: 0.2em;position: relative;}#sk-container-id-2 div.sk-item {position: relative;z-index: 1;}#sk-container-id-2 div.sk-parallel {display: flex;align-items: stretch;justify-content: center;background-color: white;position: relative;}#sk-container-id-2 div.sk-item::before, #sk-container-id-2 div.sk-parallel-item::before {content: \"\";position: absolute;border-left: 1px solid gray;box-sizing: border-box;top: 0;bottom: 0;left: 50%;z-index: -1;}#sk-container-id-2 div.sk-parallel-item {display: flex;flex-direction: column;z-index: 1;position: relative;background-color: white;}#sk-container-id-2 div.sk-parallel-item:first-child::after {align-self: flex-end;width: 50%;}#sk-container-id-2 div.sk-parallel-item:last-child::after {align-self: flex-start;width: 50%;}#sk-container-id-2 div.sk-parallel-item:only-child::after {width: 0;}#sk-container-id-2 div.sk-dashed-wrapped {border: 1px dashed gray;margin: 0 0.4em 0.5em 0.4em;box-sizing: border-box;padding-bottom: 0.4em;background-color: white;}#sk-container-id-2 div.sk-label label {font-family: monospace;font-weight: bold;display: inline-block;line-height: 1.2em;}#sk-container-id-2 div.sk-label-container {text-align: center;}#sk-container-id-2 div.sk-container {/* jupyter's `normalize.less` sets `[hidden] { display: none; }` but bootstrap.min.css set `[hidden] { display: none !important; }` so we also need the `!important` here to be able to override the default hidden behavior on the sphinx rendered scikit-learn.org. See: https://github.com/scikit-learn/scikit-learn/issues/21755 */display: inline-block !important;position: relative;}#sk-container-id-2 div.sk-text-repr-fallback {display: none;}</style><div id=\"sk-container-id-2\" class=\"sk-top-container\"><div class=\"sk-text-repr-fallback\"><pre>RandomForestClassifier()</pre><b>In a Jupyter environment, please rerun this cell to show the HTML representation or trust the notebook. <br />On GitHub, the HTML representation is unable to render, please try loading this page with nbviewer.org.</b></div><div class=\"sk-container\" hidden><div class=\"sk-item\"><div class=\"sk-estimator sk-toggleable\"><input class=\"sk-toggleable__control sk-hidden--visually\" id=\"sk-estimator-id-2\" type=\"checkbox\" checked><label for=\"sk-estimator-id-2\" class=\"sk-toggleable__label sk-toggleable__label-arrow\">RandomForestClassifier</label><div class=\"sk-toggleable__content\"><pre>RandomForestClassifier()</pre></div></div></div></div></div>"
      ],
      "text/plain": [
       "RandomForestClassifier()"
      ]
     },
     "execution_count": 76,
     "metadata": {},
     "output_type": "execute_result"
    }
   ],
   "source": [
    "model=RandomForestClassifier()\n",
    "model.fit(X_train,Y_train)"
   ]
  },
  {
   "cell_type": "code",
   "execution_count": 77,
   "id": "379f1c49",
   "metadata": {},
   "outputs": [
    {
     "data": {
      "text/html": [
       "<div>\n",
       "<style scoped>\n",
       "    .dataframe tbody tr th:only-of-type {\n",
       "        vertical-align: middle;\n",
       "    }\n",
       "\n",
       "    .dataframe tbody tr th {\n",
       "        vertical-align: top;\n",
       "    }\n",
       "\n",
       "    .dataframe thead th {\n",
       "        text-align: right;\n",
       "    }\n",
       "</style>\n",
       "<table border=\"1\" class=\"dataframe\">\n",
       "  <thead>\n",
       "    <tr style=\"text-align: right;\">\n",
       "      <th></th>\n",
       "      <th>quantity tons</th>\n",
       "      <th>customer</th>\n",
       "      <th>country</th>\n",
       "      <th>item type</th>\n",
       "      <th>application</th>\n",
       "      <th>thickness</th>\n",
       "      <th>width</th>\n",
       "      <th>product_ref</th>\n",
       "      <th>selling_price</th>\n",
       "    </tr>\n",
       "    <tr>\n",
       "      <th>id</th>\n",
       "      <th></th>\n",
       "      <th></th>\n",
       "      <th></th>\n",
       "      <th></th>\n",
       "      <th></th>\n",
       "      <th></th>\n",
       "      <th></th>\n",
       "      <th></th>\n",
       "      <th></th>\n",
       "    </tr>\n",
       "  </thead>\n",
       "  <tbody>\n",
       "    <tr>\n",
       "      <th>DA99DD72-335E-417E-A75E-22FFDBE114AF</th>\n",
       "      <td>56.05</td>\n",
       "      <td>30210704.00</td>\n",
       "      <td>26.00</td>\n",
       "      <td>3.00</td>\n",
       "      <td>10.00</td>\n",
       "      <td>1.50</td>\n",
       "      <td>1250.00</td>\n",
       "      <td>164141591.00</td>\n",
       "      <td>711.00</td>\n",
       "    </tr>\n",
       "    <tr>\n",
       "      <th>A47D9390-8BE6-40B9-868F-5B20C32BFD43</th>\n",
       "      <td>380.57</td>\n",
       "      <td>30202645.00</td>\n",
       "      <td>32.00</td>\n",
       "      <td>2.00</td>\n",
       "      <td>10.00</td>\n",
       "      <td>3.00</td>\n",
       "      <td>1500.00</td>\n",
       "      <td>1668701718.00</td>\n",
       "      <td>975.00</td>\n",
       "    </tr>\n",
       "    <tr>\n",
       "      <th>569C2427-B35F-4D2C-BEFD-9E8A6F3E556F</th>\n",
       "      <td>155.92</td>\n",
       "      <td>30267637.00</td>\n",
       "      <td>28.00</td>\n",
       "      <td>3.00</td>\n",
       "      <td>41.00</td>\n",
       "      <td>0.75</td>\n",
       "      <td>1250.00</td>\n",
       "      <td>1668701718.00</td>\n",
       "      <td>1110.00</td>\n",
       "    </tr>\n",
       "  </tbody>\n",
       "</table>\n",
       "</div>"
      ],
      "text/plain": [
       "                                      quantity tons    customer  country  \\\n",
       "id                                                                         \n",
       "DA99DD72-335E-417E-A75E-22FFDBE114AF          56.05 30210704.00    26.00   \n",
       "A47D9390-8BE6-40B9-868F-5B20C32BFD43         380.57 30202645.00    32.00   \n",
       "569C2427-B35F-4D2C-BEFD-9E8A6F3E556F         155.92 30267637.00    28.00   \n",
       "\n",
       "                                      item type  application  thickness  \\\n",
       "id                                                                        \n",
       "DA99DD72-335E-417E-A75E-22FFDBE114AF       3.00        10.00       1.50   \n",
       "A47D9390-8BE6-40B9-868F-5B20C32BFD43       2.00        10.00       3.00   \n",
       "569C2427-B35F-4D2C-BEFD-9E8A6F3E556F       3.00        41.00       0.75   \n",
       "\n",
       "                                       width   product_ref  selling_price  \n",
       "id                                                                         \n",
       "DA99DD72-335E-417E-A75E-22FFDBE114AF 1250.00  164141591.00         711.00  \n",
       "A47D9390-8BE6-40B9-868F-5B20C32BFD43 1500.00 1668701718.00         975.00  \n",
       "569C2427-B35F-4D2C-BEFD-9E8A6F3E556F 1250.00 1668701718.00        1110.00  "
      ]
     },
     "execution_count": 77,
     "metadata": {},
     "output_type": "execute_result"
    }
   ],
   "source": [
    "X_train.head(3)"
   ]
  },
  {
   "cell_type": "code",
   "execution_count": 78,
   "id": "b95c5b5b",
   "metadata": {},
   "outputs": [
    {
     "data": {
      "text/plain": [
       "id\n",
       "DA99DD72-335E-417E-A75E-22FFDBE114AF   0.00\n",
       "A47D9390-8BE6-40B9-868F-5B20C32BFD43   6.00\n",
       "569C2427-B35F-4D2C-BEFD-9E8A6F3E556F   0.00\n",
       "38ACE316-DE2D-4362-9887-F35D25DBDA0C   6.00\n",
       "2F07BAD7-CED5-4E7F-A3B1-12A517ED1C41   6.00\n",
       "                                       ... \n",
       "056157A7-3982-4D6B-A343-D2A61224B9F6   6.00\n",
       "5F3862EE-E6D7-4FD6-B70F-859451941732   6.00\n",
       "15620781-8B2B-47B1-A02B-C35A1CC2B5C3   6.00\n",
       "3F328788-4633-46EE-B8C1-FAD63F6D7393   6.00\n",
       "0699A121-32A2-4F7A-964B-8312F526368D   6.00\n",
       "Name: status, Length: 106782, dtype: float64"
      ]
     },
     "execution_count": 78,
     "metadata": {},
     "output_type": "execute_result"
    }
   ],
   "source": [
    "Y_train"
   ]
  },
  {
   "cell_type": "code",
   "execution_count": 99,
   "id": "bc7e3f1a",
   "metadata": {},
   "outputs": [],
   "source": [
    "y=np.array([[380.57,30202645.00,32.00,2.00,10.00,3.00,1500.00,1668701718.00,975.00]])\n",
    "0:380\n",
    "1:3\n",
    "2:1500\n",
    "3:30202645\n",
    "4:26\n",
    "5:2\n",
    "6:1668701718\n",
    "7:10\n",
    "8:975\n"
   ]
  },
  {
   "cell_type": "code",
   "execution_count": 100,
   "id": "f02ec341",
   "metadata": {},
   "outputs": [
    {
     "data": {
      "text/plain": [
       "array([6.])"
      ]
     },
     "execution_count": 100,
     "metadata": {},
     "output_type": "execute_result"
    }
   ],
   "source": [
    "model.predict(y)"
   ]
  },
  {
   "cell_type": "code",
   "execution_count": 81,
   "id": "e21b4221",
   "metadata": {},
   "outputs": [],
   "source": [
    "y_pred=model.predict(X_test)"
   ]
  },
  {
   "cell_type": "code",
   "execution_count": null,
   "id": "a28ede68",
   "metadata": {},
   "outputs": [],
   "source": []
  },
  {
   "cell_type": "code",
   "execution_count": 82,
   "id": "878a2b76",
   "metadata": {},
   "outputs": [],
   "source": [
    "from sklearn.metrics import accuracy_score , confusion_matrix"
   ]
  },
  {
   "cell_type": "code",
   "execution_count": 83,
   "id": "3f18e176",
   "metadata": {},
   "outputs": [
    {
     "data": {
      "text/plain": [
       "0.9342885236690547"
      ]
     },
     "execution_count": 83,
     "metadata": {},
     "output_type": "execute_result"
    }
   ],
   "source": [
    "accuracy_score(Y_test,y_pred)\n"
   ]
  },
  {
   "cell_type": "code",
   "execution_count": 92,
   "id": "ed071448",
   "metadata": {},
   "outputs": [],
   "source": [
    "import pickle"
   ]
  },
  {
   "cell_type": "code",
   "execution_count": 93,
   "id": "0ca3b13b",
   "metadata": {},
   "outputs": [],
   "source": [
    "with open('randomFormest_classffier.pkl','wb') as file:\n",
    "    pickle.dump(model,file)\n",
    "    \n",
    "    "
   ]
  },
  {
   "cell_type": "code",
   "execution_count": 94,
   "id": "e39a644c",
   "metadata": {},
   "outputs": [],
   "source": [
    "with open('randomFormest_classffier.pkl','rb') as file:\n",
    "    result=pickle.load(file)"
   ]
  },
  {
   "cell_type": "code",
   "execution_count": 96,
   "id": "fbb93202",
   "metadata": {},
   "outputs": [
    {
     "data": {
      "text/plain": [
       "array([6.])"
      ]
     },
     "execution_count": 96,
     "metadata": {},
     "output_type": "execute_result"
    }
   ],
   "source": [
    "result.predict(y)"
   ]
  },
  {
   "cell_type": "markdown",
   "id": "5995d119",
   "metadata": {},
   "source": [
    "# DecisionTreeClassifier"
   ]
  },
  {
   "cell_type": "code",
   "execution_count": null,
   "id": "107d3ee9",
   "metadata": {},
   "outputs": [],
   "source": []
  },
  {
   "cell_type": "code",
   "execution_count": 84,
   "id": "2999ed96",
   "metadata": {},
   "outputs": [],
   "source": [
    "from sklearn.tree import DecisionTreeClassifier"
   ]
  },
  {
   "cell_type": "code",
   "execution_count": 85,
   "id": "fd3502da",
   "metadata": {},
   "outputs": [
    {
     "data": {
      "text/html": [
       "<style>#sk-container-id-3 {color: black;}#sk-container-id-3 pre{padding: 0;}#sk-container-id-3 div.sk-toggleable {background-color: white;}#sk-container-id-3 label.sk-toggleable__label {cursor: pointer;display: block;width: 100%;margin-bottom: 0;padding: 0.3em;box-sizing: border-box;text-align: center;}#sk-container-id-3 label.sk-toggleable__label-arrow:before {content: \"▸\";float: left;margin-right: 0.25em;color: #696969;}#sk-container-id-3 label.sk-toggleable__label-arrow:hover:before {color: black;}#sk-container-id-3 div.sk-estimator:hover label.sk-toggleable__label-arrow:before {color: black;}#sk-container-id-3 div.sk-toggleable__content {max-height: 0;max-width: 0;overflow: hidden;text-align: left;background-color: #f0f8ff;}#sk-container-id-3 div.sk-toggleable__content pre {margin: 0.2em;color: black;border-radius: 0.25em;background-color: #f0f8ff;}#sk-container-id-3 input.sk-toggleable__control:checked~div.sk-toggleable__content {max-height: 200px;max-width: 100%;overflow: auto;}#sk-container-id-3 input.sk-toggleable__control:checked~label.sk-toggleable__label-arrow:before {content: \"▾\";}#sk-container-id-3 div.sk-estimator input.sk-toggleable__control:checked~label.sk-toggleable__label {background-color: #d4ebff;}#sk-container-id-3 div.sk-label input.sk-toggleable__control:checked~label.sk-toggleable__label {background-color: #d4ebff;}#sk-container-id-3 input.sk-hidden--visually {border: 0;clip: rect(1px 1px 1px 1px);clip: rect(1px, 1px, 1px, 1px);height: 1px;margin: -1px;overflow: hidden;padding: 0;position: absolute;width: 1px;}#sk-container-id-3 div.sk-estimator {font-family: monospace;background-color: #f0f8ff;border: 1px dotted black;border-radius: 0.25em;box-sizing: border-box;margin-bottom: 0.5em;}#sk-container-id-3 div.sk-estimator:hover {background-color: #d4ebff;}#sk-container-id-3 div.sk-parallel-item::after {content: \"\";width: 100%;border-bottom: 1px solid gray;flex-grow: 1;}#sk-container-id-3 div.sk-label:hover label.sk-toggleable__label {background-color: #d4ebff;}#sk-container-id-3 div.sk-serial::before {content: \"\";position: absolute;border-left: 1px solid gray;box-sizing: border-box;top: 0;bottom: 0;left: 50%;z-index: 0;}#sk-container-id-3 div.sk-serial {display: flex;flex-direction: column;align-items: center;background-color: white;padding-right: 0.2em;padding-left: 0.2em;position: relative;}#sk-container-id-3 div.sk-item {position: relative;z-index: 1;}#sk-container-id-3 div.sk-parallel {display: flex;align-items: stretch;justify-content: center;background-color: white;position: relative;}#sk-container-id-3 div.sk-item::before, #sk-container-id-3 div.sk-parallel-item::before {content: \"\";position: absolute;border-left: 1px solid gray;box-sizing: border-box;top: 0;bottom: 0;left: 50%;z-index: -1;}#sk-container-id-3 div.sk-parallel-item {display: flex;flex-direction: column;z-index: 1;position: relative;background-color: white;}#sk-container-id-3 div.sk-parallel-item:first-child::after {align-self: flex-end;width: 50%;}#sk-container-id-3 div.sk-parallel-item:last-child::after {align-self: flex-start;width: 50%;}#sk-container-id-3 div.sk-parallel-item:only-child::after {width: 0;}#sk-container-id-3 div.sk-dashed-wrapped {border: 1px dashed gray;margin: 0 0.4em 0.5em 0.4em;box-sizing: border-box;padding-bottom: 0.4em;background-color: white;}#sk-container-id-3 div.sk-label label {font-family: monospace;font-weight: bold;display: inline-block;line-height: 1.2em;}#sk-container-id-3 div.sk-label-container {text-align: center;}#sk-container-id-3 div.sk-container {/* jupyter's `normalize.less` sets `[hidden] { display: none; }` but bootstrap.min.css set `[hidden] { display: none !important; }` so we also need the `!important` here to be able to override the default hidden behavior on the sphinx rendered scikit-learn.org. See: https://github.com/scikit-learn/scikit-learn/issues/21755 */display: inline-block !important;position: relative;}#sk-container-id-3 div.sk-text-repr-fallback {display: none;}</style><div id=\"sk-container-id-3\" class=\"sk-top-container\"><div class=\"sk-text-repr-fallback\"><pre>DecisionTreeClassifier()</pre><b>In a Jupyter environment, please rerun this cell to show the HTML representation or trust the notebook. <br />On GitHub, the HTML representation is unable to render, please try loading this page with nbviewer.org.</b></div><div class=\"sk-container\" hidden><div class=\"sk-item\"><div class=\"sk-estimator sk-toggleable\"><input class=\"sk-toggleable__control sk-hidden--visually\" id=\"sk-estimator-id-3\" type=\"checkbox\" checked><label for=\"sk-estimator-id-3\" class=\"sk-toggleable__label sk-toggleable__label-arrow\">DecisionTreeClassifier</label><div class=\"sk-toggleable__content\"><pre>DecisionTreeClassifier()</pre></div></div></div></div></div>"
      ],
      "text/plain": [
       "DecisionTreeClassifier()"
      ]
     },
     "execution_count": 85,
     "metadata": {},
     "output_type": "execute_result"
    }
   ],
   "source": [
    "model=DecisionTreeClassifier()\n",
    "model.fit(X_train,Y_train)\n"
   ]
  },
  {
   "cell_type": "code",
   "execution_count": 90,
   "id": "142fe111",
   "metadata": {},
   "outputs": [],
   "source": [
    "y_pred=model.predict(X_test)"
   ]
  },
  {
   "cell_type": "code",
   "execution_count": 91,
   "id": "fbb9b52b",
   "metadata": {},
   "outputs": [
    {
     "data": {
      "text/plain": [
       "0.9132181486163787"
      ]
     },
     "execution_count": 91,
     "metadata": {},
     "output_type": "execute_result"
    }
   ],
   "source": [
    "accuracy_score(Y_test,y_pred)"
   ]
  },
  {
   "cell_type": "code",
   "execution_count": null,
   "id": "22a13969",
   "metadata": {},
   "outputs": [],
   "source": []
  },
  {
   "cell_type": "code",
   "execution_count": null,
   "id": "aa172bb0",
   "metadata": {},
   "outputs": [],
   "source": []
  },
  {
   "cell_type": "code",
   "execution_count": null,
   "id": "d3cd028d",
   "metadata": {},
   "outputs": [],
   "source": []
  },
  {
   "cell_type": "code",
   "execution_count": null,
   "id": "09aca6cc",
   "metadata": {},
   "outputs": [],
   "source": []
  },
  {
   "cell_type": "code",
   "execution_count": null,
   "id": "6614aef2",
   "metadata": {},
   "outputs": [],
   "source": []
  },
  {
   "cell_type": "code",
   "execution_count": null,
   "id": "a452d5a2",
   "metadata": {},
   "outputs": [],
   "source": []
  },
  {
   "cell_type": "code",
   "execution_count": null,
   "id": "950ddf4f",
   "metadata": {},
   "outputs": [],
   "source": []
  },
  {
   "cell_type": "code",
   "execution_count": null,
   "id": "96b7b193",
   "metadata": {},
   "outputs": [],
   "source": []
  },
  {
   "cell_type": "code",
   "execution_count": null,
   "id": "9ac3adf1",
   "metadata": {},
   "outputs": [],
   "source": []
  },
  {
   "cell_type": "code",
   "execution_count": null,
   "id": "c835e5c7",
   "metadata": {},
   "outputs": [],
   "source": [
    "# from sklearn.preprocessing import OrdinalEncoder\n",
    "# enc=OrdinalEncoder()\n",
    "# col_name = str(input())\n",
    "# data = df[col_name].unique()\n",
    "# data.sort()\n",
    "\n",
    "# df[col_name] = enc.fit_transform(df[[col_name]])\n",
    "\n",
    "# globals()[col_name] = {}\n",
    "# for i in df[col_name].unique():\n",
    "#       globals()[col_name][data[int(i)]] = i\n",
    "# globals()[col_name]"
   ]
  },
  {
   "cell_type": "code",
   "execution_count": null,
   "id": "8a0fe56e",
   "metadata": {},
   "outputs": [],
   "source": []
  },
  {
   "cell_type": "code",
   "execution_count": null,
   "id": "711506c5",
   "metadata": {},
   "outputs": [],
   "source": []
  },
  {
   "cell_type": "code",
   "execution_count": null,
   "id": "6f509cf1",
   "metadata": {},
   "outputs": [],
   "source": []
  }
 ],
 "metadata": {
  "kernelspec": {
   "display_name": "Python 3 (ipykernel)",
   "language": "python",
   "name": "python3"
  },
  "language_info": {
   "codemirror_mode": {
    "name": "ipython",
    "version": 3
   },
   "file_extension": ".py",
   "mimetype": "text/x-python",
   "name": "python",
   "nbconvert_exporter": "python",
   "pygments_lexer": "ipython3",
   "version": "3.11.4"
  }
 },
 "nbformat": 4,
 "nbformat_minor": 5
}
